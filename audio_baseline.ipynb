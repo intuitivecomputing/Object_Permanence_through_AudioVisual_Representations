{
 "cells": [
  {
   "cell_type": "code",
   "execution_count": 1,
   "metadata": {},
   "outputs": [],
   "source": [
    "import matplotlib.pyplot as plt\n",
    "import torch\n",
    "import torch.nn as nn\n",
    "import torch.nn.functional as F\n",
    "import torch.optim as optim\n",
    "import torchvision \n",
    "from torchvision import datasets\n",
    "from torchvision import transforms\n",
    "from torch.autograd import Variable \n",
    "import numpy as np \n",
    "import tqdm \n",
    "from torch.utils import data \n",
    "import librosa\n",
    "from scipy.io import wavfile\n",
    "import json\n",
    "import random\n",
    "from scipy.signal import spectrogram"
   ]
  },
  {
   "cell_type": "code",
   "execution_count": 2,
   "metadata": {},
   "outputs": [],
   "source": [
    "class Args(object):\n",
    "    def __init__(self, name=\"Net\", batch_size=4, test_batch_size=50,\n",
    "                epochs=30, lr=1e-4, optimizer='Adam', momentum=0.9, weight_decay=0.0,\n",
    "                seed=0, cuda = True):\n",
    "        self.name = name;\n",
    "        self.epochs = epochs\n",
    "        self.batch_size = batch_size\n",
    "        self.lr = lr\n",
    "        self.weight_decay = weight_decay\n",
    "        self.optimizer = optimizer\n",
    "        self.momentum = momentum\n",
    "        self.seed = seed\n",
    "        self.cuda = cuda and torch.cuda.is_available()"
   ]
  },
  {
   "cell_type": "code",
   "execution_count": 3,
   "metadata": {},
   "outputs": [],
   "source": [
    "# constants used for normalizing (in pixel coordinate)\n",
    "com_traj_minx = -1476\n",
    "com_traj_maxx = 1758\n",
    "com_traj_miny = -678\n",
    "com_traj_maxy = 1785"
   ]
  },
  {
   "cell_type": "code",
   "execution_count": 4,
   "metadata": {},
   "outputs": [],
   "source": [
    "\n",
    "class Dataset(data.Dataset):\n",
    "    \n",
    "    def __init__(self, list_IDs, transform=None):\n",
    "        #'Initialization'\n",
    "        self.list_IDs = list_IDs\n",
    "        self.transform = transform\n",
    "        \n",
    "    def __len__(self):\n",
    "        return len(self.list_IDs)\n",
    "    \n",
    "    def __getitem__(self, index):\n",
    "        # Generates one sample of data \n",
    "        ID = self.list_IDs[index]\n",
    "        \n",
    "        # Audio Feature Extraction\n",
    "        filename = 'dataset_archive/audio/audio' + str(ID) + '.wav'\n",
    "        srate, audio = wavfile.read(filename)\n",
    "        audio = np.array(audio)\n",
    "        \n",
    "        for i in range(0,7):\n",
    "            freq,t,phase = spectrogram(audio[:,i], nperseg=512 , noverlap=256, mode='phase')\n",
    "            freq,t,mag = spectrogram(audio[:,i], nperseg=512, noverlap=256, mode='magnitude')\n",
    "            if (i == 0):\n",
    "                audio_phase = torch.from_numpy(phase).unsqueeze(2).float()\n",
    "                audio_mag = torch.from_numpy(mag).unsqueeze(2).float()\n",
    "            else:\n",
    "                audio_phase = torch.cat((audio_phase, torch.from_numpy(phase).unsqueeze(2).float()),2)\n",
    "                audio_mag = torch.cat((audio_mag, torch.from_numpy(mag).unsqueeze(2).float()),2)\n",
    "        audio_img = torch.cat((audio_mag, audio_phase), 2)\n",
    "        audio_img = audio_img.permute(1,0,2)\n",
    "        \n",
    "        complete_traj = np.load(\"dataset_archive/trajectory/traj\"+str(ID)+\".npy\")\n",
    "        complete_traj = (complete_traj[0] - complete_traj).astype(float)\n",
    "        complete_traj[:,0] = (complete_traj[:,0] - com_traj_minx) / (com_traj_maxx - com_traj_minx)\n",
    "        complete_traj[:,1] = (complete_traj[:,1] - com_traj_miny) / (com_traj_maxy - com_traj_miny)\n",
    "    \n",
    "        \n",
    "        if complete_traj.shape[0] > 135:\n",
    "            complete_traj = complete_traj[0:135,:]\n",
    "        if complete_traj.shape[0] < 135:\n",
    "            for i in range(0, 135 - complete_traj.shape[0]):\n",
    "                complete_traj = np.append(complete_traj, complete_traj[-1].reshape(1,2), axis=0)    \n",
    "\n",
    "        complete_traj = torch.from_numpy(complete_traj).type(torch.FloatTensor)\n",
    "\n",
    "        return audio_img, complete_traj"
   ]
  },
  {
   "cell_type": "code",
   "execution_count": 5,
   "metadata": {},
   "outputs": [],
   "source": [
    "# Read in index for train, validation, test\n",
    "with open('partition.json') as f:\n",
    "    partition = json.load(f)\n",
    "args = Args()\n",
    "params = {'batch_size': args.batch_size,\n",
    "          'shuffle': True,\n",
    "          'num_workers': 4}\n",
    "# Generators\n",
    "training_set = Dataset(partition['train'])\n",
    "training_generator = data.DataLoader(training_set, **params)\n",
    "\n",
    "validation_set = Dataset(partition['val'])\n",
    "validation_generator = data.DataLoader(validation_set, **params)"
   ]
  },
  {
   "cell_type": "code",
   "execution_count": 6,
   "metadata": {},
   "outputs": [],
   "source": [
    "class Encoder(nn.Module):\n",
    "    \"\"\"Encoder is part of both TrajectoryGenerator and\n",
    "    TrajectoryDiscriminator\"\"\"\n",
    "    def __init__(\n",
    "        self, embedding_dim=64, h_dim=64, mlp_dim=1024, num_layers=1,\n",
    "        dropout=0.0\n",
    "    ):\n",
    "        super(Encoder, self).__init__()\n",
    "\n",
    "        self.mlp_dim = 1024\n",
    "        self.h_dim = h_dim\n",
    "        self.embedding_dim = embedding_dim\n",
    "        self.num_layers = num_layers\n",
    "\n",
    "        self.encoder = nn.GRU(\n",
    "            embedding_dim, h_dim, num_layers, dropout=dropout, bidirectional=True\n",
    "        )\n",
    "        self.spatial_embedding = nn.Linear(64, embedding_dim)\n",
    "\n",
    "    def init_hidden(self, batch):\n",
    "        return torch.zeros(self.num_layers*2, batch, self.h_dim).cuda()\n",
    "\n",
    "    def forward(self, obs_traj):\n",
    "        \"\"\"\n",
    "        Inputs:\n",
    "        - obs_traj: Tensor of shape (obs_len, batch, 2)\n",
    "        \"\"\"\n",
    "        # Encode observed Trajectory\n",
    "        batch = obs_traj.size(1)\n",
    "        state_tuple = self.init_hidden(batch)\n",
    "        output, state = self.encoder(obs_traj, state_tuple)\n",
    "        final_h = state[0]\n",
    "        return output, final_h\n",
    "    "
   ]
  },
  {
   "cell_type": "code",
   "execution_count": 7,
   "metadata": {},
   "outputs": [],
   "source": [
    "class Net(nn.Module):\n",
    "    def __init__(self):\n",
    "        super(Net, self).__init__()\n",
    "        self.cn1 = nn.Conv3d(in_channels=1, out_channels=64, kernel_size=(5,5,14), padding=(1,1,3))\n",
    "        self.batchNorm1 = nn.BatchNorm3d(64)\n",
    "        self.pooling1 = nn.MaxPool3d(kernel_size = (1,8,1), stride=(1,4,1))\n",
    "        self.cn2 = nn.Conv3d(in_channels=64, out_channels=64, kernel_size=(5,5,7), padding=(1,1,2))\n",
    "        self.batchNorm2 = nn.BatchNorm3d(64)\n",
    "        self.pooling2 = nn.MaxPool3d(kernel_size = (1,8,1), stride=(1,4,1))\n",
    "        self.cn3 = nn.Conv3d(in_channels=64, out_channels=64, kernel_size=(3,3,5), padding=(1,1,1))\n",
    "        self.batchNorm3 = nn.BatchNorm3d(64)\n",
    "        self.pooling3 = nn.MaxPool3d(kernel_size = (1,4,1), stride=(1,2,1))\n",
    "        self.cn4 = nn.Conv3d(in_channels=64, out_channels=64, kernel_size=(3,3,3), padding=(1,0,0))\n",
    "        self.batchNorm4 = nn.BatchNorm3d(64)\n",
    "        self.pooling4 = nn.MaxPool3d(kernel_size = (1,4,1), stride=(1,2,1))\n",
    "        \n",
    "        self.encoder = Encoder(\n",
    "            embedding_dim=64,\n",
    "            h_dim=64,\n",
    "            num_layers=1,\n",
    "            dropout=0\n",
    "        )\n",
    "        \n",
    "        self.encoder2 = Encoder(\n",
    "            embedding_dim=64,\n",
    "            h_dim=64,\n",
    "            num_layers=1,\n",
    "            dropout=0\n",
    "        )\n",
    "        \n",
    "        self.ln = nn.Linear(128, 64)\n",
    "        self.spatial_trimming1 = nn.Linear(555, 256)\n",
    "        self.spatial_trimming2 = nn.Linear(256, 135)\n",
    "        \n",
    "        self.traj_predictor1 = nn.Linear(128, 64)\n",
    "        self.dropout = nn.Dropout(0.2)\n",
    "        self.traj_predictor2 = nn.Linear(64, 16)\n",
    "        self.dropout1 = nn.Dropout(0.1)\n",
    "        self.traj_predictor3 = nn.Linear(16, 2)\n",
    "        \n",
    "    def forward(self, x):\n",
    "        x = x.unsqueeze(1)\n",
    "        x = F.relu(self.cn1(x))\n",
    "        x = self.batchNorm1(x)\n",
    "        x = self.pooling1(x)\n",
    "        x = F.relu(self.cn2(x))\n",
    "        x = self.batchNorm2(x)\n",
    "        x = self.pooling2(x)\n",
    "        x = F.relu(self.cn3(x))\n",
    "        x = self.batchNorm3(x)\n",
    "        x = self.pooling3(x)\n",
    "        x = F.relu(self.cn4(x))\n",
    "        x = self.batchNorm4(x)\n",
    "        x = self.pooling4(x)\n",
    "        x = x.squeeze(4)\n",
    "        x = x.squeeze(3)\n",
    "        x = x.permute(2,0,1)\n",
    "        x, _ = self.encoder(x)\n",
    "        x = self.ln(x)\n",
    "        x = torch.tanh(x)\n",
    "        x, _ = self.encoder2(x)\n",
    "        x = torch.tanh(x)\n",
    "        x = x.permute(1,2,0)\n",
    "        x = F.relu(self.spatial_trimming1(x))\n",
    "        x = self.spatial_trimming2(x)\n",
    "        x = x.permute(0,2,1)\n",
    "        x = F.relu(self.traj_predictor1(x))\n",
    "        x = self.dropout(x)\n",
    "        x = F.relu(self.traj_predictor2(x))\n",
    "        x = self.dropout1(x)\n",
    "        x = torch.sigmoid(self.traj_predictor3(x))\n",
    "        return x[:,:,0], x[:,:,1]"
   ]
  },
  {
   "cell_type": "code",
   "execution_count": 8,
   "metadata": {
    "scrolled": true
   },
   "outputs": [
    {
     "name": "stderr",
     "output_type": "stream",
     "text": [
      "\r",
      "Training:   0%|          | 0/288 [00:00<?, ?it/s]"
     ]
    },
    {
     "name": "stdout",
     "output_type": "stream",
     "text": [
      "epoch 0\n"
     ]
    },
    {
     "name": "stderr",
     "output_type": "stream",
     "text": [
      "Epoch: 0 loss: 0.0358: 100%|██████████| 288/288 [05:31<00:00,  1.15s/it]\n",
      "Validation: 100%|██████████| 32/32 [00:09<00:00,  3.40it/s]\n",
      "/home/frankbu/.local/lib/python3.6/site-packages/torch/serialization.py:402: UserWarning: Couldn't retrieve source code for container of type Net. It won't be checked for correctness upon loading.\n",
      "  \"type \" + obj.__name__ + \". It won't be checked \"\n",
      "/home/frankbu/.local/lib/python3.6/site-packages/torch/serialization.py:402: UserWarning: Couldn't retrieve source code for container of type Encoder. It won't be checked for correctness upon loading.\n",
      "  \"type \" + obj.__name__ + \". It won't be checked \"\n",
      "Training:   0%|          | 0/288 [00:00<?, ?it/s]"
     ]
    },
    {
     "name": "stdout",
     "output_type": "stream",
     "text": [
      "\n",
      "Epoch: 0 validation test results - Average val_loss: 7.6984\n",
      "epoch 1\n"
     ]
    },
    {
     "name": "stderr",
     "output_type": "stream",
     "text": [
      "Epoch: 1 loss: 0.0537: 100%|██████████| 288/288 [05:33<00:00,  1.16s/it]\n",
      "Validation: 100%|██████████| 32/32 [00:09<00:00,  3.39it/s]\n",
      "Training:   0%|          | 0/288 [00:00<?, ?it/s]"
     ]
    },
    {
     "name": "stdout",
     "output_type": "stream",
     "text": [
      "\n",
      "Epoch: 1 validation test results - Average val_loss: 6.2400\n",
      "epoch 2\n"
     ]
    },
    {
     "name": "stderr",
     "output_type": "stream",
     "text": [
      "Epoch: 2 loss: 0.0340: 100%|██████████| 288/288 [05:33<00:00,  1.16s/it]\n",
      "Validation: 100%|██████████| 32/32 [00:09<00:00,  3.38it/s]\n",
      "Training:   0%|          | 0/288 [00:00<?, ?it/s]"
     ]
    },
    {
     "name": "stdout",
     "output_type": "stream",
     "text": [
      "\n",
      "Epoch: 2 validation test results - Average val_loss: 4.9082\n",
      "epoch 3\n"
     ]
    },
    {
     "name": "stderr",
     "output_type": "stream",
     "text": [
      "Epoch: 3 loss: 0.0183: 100%|██████████| 288/288 [05:34<00:00,  1.16s/it]\n",
      "Validation: 100%|██████████| 32/32 [00:09<00:00,  3.38it/s]\n",
      "Training:   0%|          | 0/288 [00:00<?, ?it/s]"
     ]
    },
    {
     "name": "stdout",
     "output_type": "stream",
     "text": [
      "\n",
      "Epoch: 3 validation test results - Average val_loss: 4.1539\n",
      "epoch 4\n"
     ]
    },
    {
     "name": "stderr",
     "output_type": "stream",
     "text": [
      "Epoch: 4 loss: 0.0761: 100%|██████████| 288/288 [05:34<00:00,  1.16s/it]\n",
      "Validation: 100%|██████████| 32/32 [00:09<00:00,  3.37it/s]\n",
      "Training:   0%|          | 0/288 [00:00<?, ?it/s]"
     ]
    },
    {
     "name": "stdout",
     "output_type": "stream",
     "text": [
      "\n",
      "Epoch: 4 validation test results - Average val_loss: 4.0578\n",
      "epoch 5\n"
     ]
    },
    {
     "name": "stderr",
     "output_type": "stream",
     "text": [
      "Epoch: 5 loss: 0.0188: 100%|██████████| 288/288 [05:34<00:00,  1.16s/it]\n",
      "Validation: 100%|██████████| 32/32 [00:09<00:00,  3.38it/s]\n",
      "Training:   0%|          | 0/288 [00:00<?, ?it/s]"
     ]
    },
    {
     "name": "stdout",
     "output_type": "stream",
     "text": [
      "\n",
      "Epoch: 5 validation test results - Average val_loss: 3.8999\n",
      "epoch 6\n"
     ]
    },
    {
     "name": "stderr",
     "output_type": "stream",
     "text": [
      "Epoch: 6 loss: 0.1293: 100%|██████████| 288/288 [05:33<00:00,  1.16s/it]\n",
      "Validation: 100%|██████████| 32/32 [00:09<00:00,  3.38it/s]\n",
      "Training:   0%|          | 0/288 [00:00<?, ?it/s]"
     ]
    },
    {
     "name": "stdout",
     "output_type": "stream",
     "text": [
      "\n",
      "Epoch: 6 validation test results - Average val_loss: 3.3138\n",
      "epoch 7\n"
     ]
    },
    {
     "name": "stderr",
     "output_type": "stream",
     "text": [
      "Epoch: 7 loss: 0.0406: 100%|██████████| 288/288 [05:36<00:00,  1.17s/it]\n",
      "Validation: 100%|██████████| 32/32 [00:10<00:00,  3.09it/s]\n",
      "Training:   0%|          | 0/288 [00:00<?, ?it/s]"
     ]
    },
    {
     "name": "stdout",
     "output_type": "stream",
     "text": [
      "\n",
      "Epoch: 7 validation test results - Average val_loss: 3.6277\n",
      "epoch 8\n"
     ]
    },
    {
     "name": "stderr",
     "output_type": "stream",
     "text": [
      "Epoch: 8 loss: 0.0144: 100%|██████████| 288/288 [05:39<00:00,  1.18s/it]\n",
      "Validation: 100%|██████████| 32/32 [00:10<00:00,  3.09it/s]\n",
      "Training:   0%|          | 0/288 [00:00<?, ?it/s]"
     ]
    },
    {
     "name": "stdout",
     "output_type": "stream",
     "text": [
      "\n",
      "Epoch: 8 validation test results - Average val_loss: 3.9823\n",
      "epoch 9\n"
     ]
    },
    {
     "name": "stderr",
     "output_type": "stream",
     "text": [
      "Epoch: 9 loss: 0.0304: 100%|██████████| 288/288 [05:34<00:00,  1.16s/it]\n",
      "Validation: 100%|██████████| 32/32 [00:09<00:00,  3.38it/s]\n",
      "Training:   0%|          | 0/288 [00:00<?, ?it/s]"
     ]
    },
    {
     "name": "stdout",
     "output_type": "stream",
     "text": [
      "\n",
      "Epoch: 9 validation test results - Average val_loss: 5.3962\n",
      "epoch 10\n"
     ]
    },
    {
     "name": "stderr",
     "output_type": "stream",
     "text": [
      "Epoch: 10 loss: 0.0079: 100%|██████████| 288/288 [05:34<00:00,  1.16s/it]\n",
      "Validation: 100%|██████████| 32/32 [00:09<00:00,  3.39it/s]\n",
      "Training:   0%|          | 0/288 [00:00<?, ?it/s]"
     ]
    },
    {
     "name": "stdout",
     "output_type": "stream",
     "text": [
      "\n",
      "Epoch: 10 validation test results - Average val_loss: 3.3458\n",
      "epoch 11\n"
     ]
    },
    {
     "name": "stderr",
     "output_type": "stream",
     "text": [
      "Epoch: 11 loss: 0.0054: 100%|██████████| 288/288 [05:34<00:00,  1.16s/it]\n",
      "Validation: 100%|██████████| 32/32 [00:09<00:00,  3.39it/s]\n",
      "Training:   0%|          | 0/288 [00:00<?, ?it/s]"
     ]
    },
    {
     "name": "stdout",
     "output_type": "stream",
     "text": [
      "\n",
      "Epoch: 11 validation test results - Average val_loss: 3.2851\n",
      "epoch 12\n"
     ]
    },
    {
     "name": "stderr",
     "output_type": "stream",
     "text": [
      "Epoch: 12 loss: 0.0056: 100%|██████████| 288/288 [05:34<00:00,  1.16s/it]\n",
      "Validation: 100%|██████████| 32/32 [00:09<00:00,  3.39it/s]\n",
      "Training:   0%|          | 0/288 [00:00<?, ?it/s]"
     ]
    },
    {
     "name": "stdout",
     "output_type": "stream",
     "text": [
      "\n",
      "Epoch: 12 validation test results - Average val_loss: 3.3976\n",
      "epoch 13\n"
     ]
    },
    {
     "name": "stderr",
     "output_type": "stream",
     "text": [
      "Epoch: 13 loss: 0.0089: 100%|██████████| 288/288 [05:37<00:00,  1.17s/it]\n",
      "Validation: 100%|██████████| 32/32 [00:10<00:00,  3.06it/s]\n",
      "Training:   0%|          | 0/288 [00:00<?, ?it/s]"
     ]
    },
    {
     "name": "stdout",
     "output_type": "stream",
     "text": [
      "\n",
      "Epoch: 13 validation test results - Average val_loss: 3.4224\n",
      "epoch 14\n"
     ]
    },
    {
     "name": "stderr",
     "output_type": "stream",
     "text": [
      "Epoch: 14 loss: 0.0063: 100%|██████████| 288/288 [05:39<00:00,  1.18s/it]\n",
      "Validation: 100%|██████████| 32/32 [00:10<00:00,  3.19it/s]\n",
      "Training:   0%|          | 0/288 [00:00<?, ?it/s]"
     ]
    },
    {
     "name": "stdout",
     "output_type": "stream",
     "text": [
      "\n",
      "Epoch: 14 validation test results - Average val_loss: 3.2813\n",
      "epoch 15\n"
     ]
    },
    {
     "name": "stderr",
     "output_type": "stream",
     "text": [
      "Epoch: 15 loss: 0.0122: 100%|██████████| 288/288 [05:35<00:00,  1.17s/it]\n",
      "Validation: 100%|██████████| 32/32 [00:10<00:00,  3.09it/s]\n",
      "Training:   0%|          | 0/288 [00:00<?, ?it/s]"
     ]
    },
    {
     "name": "stdout",
     "output_type": "stream",
     "text": [
      "\n",
      "Epoch: 15 validation test results - Average val_loss: 3.4121\n",
      "epoch 16\n"
     ]
    },
    {
     "name": "stderr",
     "output_type": "stream",
     "text": [
      "Epoch: 16 loss: 0.0158: 100%|██████████| 288/288 [05:39<00:00,  1.18s/it]\n",
      "Validation: 100%|██████████| 32/32 [00:10<00:00,  3.17it/s]\n",
      "Training:   0%|          | 0/288 [00:00<?, ?it/s]"
     ]
    },
    {
     "name": "stdout",
     "output_type": "stream",
     "text": [
      "\n",
      "Epoch: 16 validation test results - Average val_loss: 3.3983\n",
      "epoch 17\n"
     ]
    },
    {
     "name": "stderr",
     "output_type": "stream",
     "text": [
      "Epoch: 17 loss: 0.0555: 100%|██████████| 288/288 [05:36<00:00,  1.17s/it]\n",
      "Validation: 100%|██████████| 32/32 [00:09<00:00,  3.38it/s]\n",
      "Training:   0%|          | 0/288 [00:00<?, ?it/s]"
     ]
    },
    {
     "name": "stdout",
     "output_type": "stream",
     "text": [
      "\n",
      "Epoch: 17 validation test results - Average val_loss: 3.4577\n",
      "epoch 18\n"
     ]
    },
    {
     "name": "stderr",
     "output_type": "stream",
     "text": [
      "Epoch: 18 loss: 0.0074: 100%|██████████| 288/288 [05:34<00:00,  1.16s/it]\n",
      "Validation: 100%|██████████| 32/32 [00:09<00:00,  3.39it/s]\n",
      "Training:   0%|          | 0/288 [00:00<?, ?it/s]"
     ]
    },
    {
     "name": "stdout",
     "output_type": "stream",
     "text": [
      "\n",
      "Epoch: 18 validation test results - Average val_loss: 3.3297\n",
      "epoch 19\n"
     ]
    },
    {
     "name": "stderr",
     "output_type": "stream",
     "text": [
      "Epoch: 19 loss: 0.0122: 100%|██████████| 288/288 [05:34<00:00,  1.16s/it]\n",
      "Validation: 100%|██████████| 32/32 [00:09<00:00,  3.37it/s]\n",
      "Training:   0%|          | 0/288 [00:00<?, ?it/s]"
     ]
    },
    {
     "name": "stdout",
     "output_type": "stream",
     "text": [
      "\n",
      "Epoch: 19 validation test results - Average val_loss: 3.3543\n",
      "epoch 20\n"
     ]
    },
    {
     "name": "stderr",
     "output_type": "stream",
     "text": [
      "Epoch: 20 loss: 0.0067: 100%|██████████| 288/288 [05:34<00:00,  1.16s/it]\n",
      "Validation: 100%|██████████| 32/32 [00:09<00:00,  3.39it/s]\n",
      "Training:   0%|          | 0/288 [00:00<?, ?it/s]"
     ]
    },
    {
     "name": "stdout",
     "output_type": "stream",
     "text": [
      "\n",
      "Epoch: 20 validation test results - Average val_loss: 3.2691\n",
      "epoch 21\n"
     ]
    },
    {
     "name": "stderr",
     "output_type": "stream",
     "text": [
      "Epoch: 21 loss: 0.0058: 100%|██████████| 288/288 [05:34<00:00,  1.16s/it]\n",
      "Validation: 100%|██████████| 32/32 [00:09<00:00,  3.38it/s]\n",
      "Training:   0%|          | 0/288 [00:00<?, ?it/s]"
     ]
    },
    {
     "name": "stdout",
     "output_type": "stream",
     "text": [
      "\n",
      "Epoch: 21 validation test results - Average val_loss: 3.2959\n",
      "epoch 22\n"
     ]
    },
    {
     "name": "stderr",
     "output_type": "stream",
     "text": [
      "Epoch: 22 loss: 0.0075: 100%|██████████| 288/288 [05:35<00:00,  1.17s/it]\n",
      "Validation: 100%|██████████| 32/32 [00:10<00:00,  3.07it/s]\n",
      "Training:   0%|          | 0/288 [00:00<?, ?it/s]"
     ]
    },
    {
     "name": "stdout",
     "output_type": "stream",
     "text": [
      "\n",
      "Epoch: 22 validation test results - Average val_loss: 3.4079\n",
      "epoch 23\n"
     ]
    },
    {
     "name": "stderr",
     "output_type": "stream",
     "text": [
      "Epoch: 23 loss: 0.0100: 100%|██████████| 288/288 [05:39<00:00,  1.18s/it]\n",
      "Validation: 100%|██████████| 32/32 [00:10<00:00,  3.08it/s]\n",
      "Training:   0%|          | 0/288 [00:00<?, ?it/s]"
     ]
    },
    {
     "name": "stdout",
     "output_type": "stream",
     "text": [
      "\n",
      "Epoch: 23 validation test results - Average val_loss: 3.3005\n",
      "epoch 24\n"
     ]
    },
    {
     "name": "stderr",
     "output_type": "stream",
     "text": [
      "Epoch: 24 loss: 0.0054: 100%|██████████| 288/288 [05:35<00:00,  1.17s/it]\n",
      "Validation: 100%|██████████| 32/32 [00:09<00:00,  3.38it/s]\n",
      "Training:   0%|          | 0/288 [00:00<?, ?it/s]"
     ]
    },
    {
     "name": "stdout",
     "output_type": "stream",
     "text": [
      "\n",
      "Epoch: 24 validation test results - Average val_loss: 3.4200\n",
      "epoch 25\n"
     ]
    },
    {
     "name": "stderr",
     "output_type": "stream",
     "text": [
      "Epoch: 25 loss: 0.0032: 100%|██████████| 288/288 [05:34<00:00,  1.16s/it]\n",
      "Validation: 100%|██████████| 32/32 [00:09<00:00,  3.38it/s]\n",
      "Training:   0%|          | 0/288 [00:00<?, ?it/s]"
     ]
    },
    {
     "name": "stdout",
     "output_type": "stream",
     "text": [
      "\n",
      "Epoch: 25 validation test results - Average val_loss: 3.3823\n",
      "epoch 26\n"
     ]
    },
    {
     "name": "stderr",
     "output_type": "stream",
     "text": [
      "Epoch: 26 loss: 0.0102: 100%|██████████| 288/288 [05:34<00:00,  1.16s/it]\n",
      "Validation: 100%|██████████| 32/32 [00:09<00:00,  3.38it/s]\n",
      "Training:   0%|          | 0/288 [00:00<?, ?it/s]"
     ]
    },
    {
     "name": "stdout",
     "output_type": "stream",
     "text": [
      "\n",
      "Epoch: 26 validation test results - Average val_loss: 3.4132\n",
      "epoch 27\n"
     ]
    },
    {
     "name": "stderr",
     "output_type": "stream",
     "text": [
      "Epoch: 27 loss: 0.0070: 100%|██████████| 288/288 [05:34<00:00,  1.16s/it]\n",
      "Validation: 100%|██████████| 32/32 [00:09<00:00,  3.39it/s]\n",
      "Training:   0%|          | 0/288 [00:00<?, ?it/s]"
     ]
    },
    {
     "name": "stdout",
     "output_type": "stream",
     "text": [
      "\n",
      "Epoch: 27 validation test results - Average val_loss: 3.3759\n",
      "epoch 28\n"
     ]
    },
    {
     "name": "stderr",
     "output_type": "stream",
     "text": [
      "Epoch: 28 loss: 0.0053: 100%|██████████| 288/288 [05:34<00:00,  1.16s/it]\n",
      "Validation: 100%|██████████| 32/32 [00:09<00:00,  3.38it/s]\n",
      "Training:   0%|          | 0/288 [00:00<?, ?it/s]"
     ]
    },
    {
     "name": "stdout",
     "output_type": "stream",
     "text": [
      "\n",
      "Epoch: 28 validation test results - Average val_loss: 3.3648\n",
      "epoch 29\n"
     ]
    },
    {
     "name": "stderr",
     "output_type": "stream",
     "text": [
      "Epoch: 29 loss: 0.0112: 100%|██████████| 288/288 [05:34<00:00,  1.16s/it]\n",
      "Validation: 100%|██████████| 32/32 [00:09<00:00,  3.37it/s]"
     ]
    },
    {
     "name": "stdout",
     "output_type": "stream",
     "text": [
      "\n",
      "Epoch: 29 validation test results - Average val_loss: 3.4194\n"
     ]
    },
    {
     "name": "stderr",
     "output_type": "stream",
     "text": [
      "\n"
     ]
    }
   ],
   "source": [
    "model = Net()\n",
    "optimizer = optim.Adam(model.parameters(), lr=args.lr, weight_decay=args.weight_decay)\n",
    "if args.cuda:\n",
    "    model = model.cuda()\n",
    "train_losses, train_accs = [], []\n",
    "val_losses, val_accs = [], []\n",
    "min_test_loss = 1000.\n",
    "for epoch in range(args.epochs):\n",
    "    # Training\n",
    "    print(\"epoch \" + str(epoch))\n",
    "    model.train()\n",
    "    \n",
    "    total_loss, total_acc = 0., 0.\n",
    "    progress_bar = tqdm.tqdm(training_generator, desc='Training')\n",
    "    \n",
    "    for batch_idx, (data, target) in enumerate(progress_bar):\n",
    "        total_loss, total_acc = 0., 0.\n",
    "        data = data.float()\n",
    "        target = target.float()\n",
    "        \n",
    "        if args.cuda:\n",
    "            data,target = data.cuda(), target.cuda()\n",
    "        data, target = Variable(data), Variable(target)\n",
    "        optimizer.zero_grad()\n",
    "        output = model(data)\n",
    "        loss_x = F.mse_loss(output[0], target[:,:,0], reduction=\"sum\")\n",
    "        loss_y = F.mse_loss(output[1], target[:,:,1], reduction=\"sum\")\n",
    "        loss = loss_x + loss_y\n",
    "        loss.backward()\n",
    "        optimizer.step()\n",
    "        train_losses.append(loss.data.item())\n",
    "        \n",
    "        total_loss += loss.data\n",
    "        \n",
    "        progress_bar.clear()\n",
    "        progress_bar.set_description(\n",
    "            'Epoch: {} loss: {:.4f}'.format(\n",
    "                epoch, total_loss / (batch_idx + 1)))\n",
    "        progress_bar.refresh()\n",
    "        \n",
    "    # Validation\n",
    "    model.eval()\n",
    "    test_loss, acc = 0., 0.\n",
    "    progress_bar = tqdm.tqdm(validation_generator, desc='Validation')\n",
    "    with torch.no_grad():\n",
    "        for data, target in progress_bar:\n",
    "            data = data.float()\n",
    "            target = target.float()\n",
    "            if args.cuda:\n",
    "                data,target = data.cuda(), target.cuda()\n",
    "            data, target = Variable(data), Variable(target)\n",
    "            data = data.float()\n",
    "            output = model(data)\n",
    "            loss_x = F.mse_loss(output[0], target[:,:,0], reduction=\"sum\") \n",
    "            loss_y = F.mse_loss(output[1], target[:,:,1], reduction=\"sum\")  # sum up batch loss\n",
    "            test_loss += (loss_x + loss_y)\n",
    "    test_loss /= len(partition['val'])\n",
    "    val_losses.append(test_loss.item())\n",
    "    if epoch % 10 == 0 and epoch != 0:\n",
    "        args.lr /= 5\n",
    "        for param_group in optimizer.param_groups:\n",
    "            param_group['lr'] = args.lr\n",
    "    progress_bar.clear()\n",
    "    progress_bar.write(\n",
    "        '\\nEpoch: {} validation test results - Average val_loss: {:.4f}'.format(\n",
    "            epoch, test_loss))\n",
    "    if (test_loss < min_test_loss):\n",
    "        torch.save(model, \"audio_checkpoint_new.pkl\")\n",
    "        min_test_loss = test_loss"
   ]
  },
  {
   "cell_type": "code",
   "execution_count": 9,
   "metadata": {},
   "outputs": [
    {
     "data": {
      "text/plain": [
       "[7.698442459106445,\n",
       " 6.240025043487549,\n",
       " 4.908244609832764,\n",
       " 4.153877258300781,\n",
       " 4.057795524597168,\n",
       " 3.8998873233795166,\n",
       " 3.3137989044189453,\n",
       " 3.6277015209198,\n",
       " 3.9823100566864014,\n",
       " 5.396233558654785,\n",
       " 3.345834970474243,\n",
       " 3.2851290702819824,\n",
       " 3.397555112838745,\n",
       " 3.4224469661712646,\n",
       " 3.2813353538513184,\n",
       " 3.4120523929595947,\n",
       " 3.3982956409454346,\n",
       " 3.4577383995056152,\n",
       " 3.32967472076416,\n",
       " 3.354292154312134,\n",
       " 3.2690811157226562,\n",
       " 3.2958803176879883,\n",
       " 3.4079408645629883,\n",
       " 3.3004636764526367,\n",
       " 3.419959545135498,\n",
       " 3.3823375701904297,\n",
       " 3.4132039546966553,\n",
       " 3.375885009765625,\n",
       " 3.364790201187134,\n",
       " 3.4193553924560547]"
      ]
     },
     "execution_count": 9,
     "metadata": {},
     "output_type": "execute_result"
    }
   ],
   "source": [
    "val_losses"
   ]
  },
  {
   "cell_type": "code",
   "execution_count": 10,
   "metadata": {},
   "outputs": [
    {
     "data": {
      "text/plain": [
       "[<matplotlib.lines.Line2D at 0x7f2a8e3fe208>]"
      ]
     },
     "execution_count": 10,
     "metadata": {},
     "output_type": "execute_result"
    },
    {
     "data": {
      "image/png": "[encoded data removed]",
      "text/plain": [
       "<Figure size 432x288 with 1 Axes>"
      ]
     },
     "metadata": {
      "needs_background": "light"
     },
     "output_type": "display_data"
    }
   ],
   "source": [
    "plt.plot(val_losses)"
   ]
  },
  {
   "cell_type": "code",
   "execution_count": null,
   "metadata": {},
   "outputs": [],
   "source": []
  },
  {
   "cell_type": "code",
   "execution_count": null,
   "metadata": {},
   "outputs": [],
   "source": []
  }
 ],
 "metadata": {
  "kernelspec": {
   "display_name": "Python 3",
   "language": "python",
   "name": "python3"
  },
  "language_info": {
   "codemirror_mode": {
    "name": "ipython",
    "version": 3
   },
   "file_extension": ".py",
   "mimetype": "text/x-python",
   "name": "python",
   "nbconvert_exporter": "python",
   "pygments_lexer": "ipython3",
   "version": "3.6.9"
  }
 },
 "nbformat": 4,
 "nbformat_minor": 4
}
