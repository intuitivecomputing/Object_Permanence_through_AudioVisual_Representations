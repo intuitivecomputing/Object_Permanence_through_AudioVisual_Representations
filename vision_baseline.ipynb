{
 "cells": [
  {
   "cell_type": "code",
   "execution_count": 1,
   "metadata": {},
   "outputs": [],
   "source": [
    "import matplotlib.pyplot as plt\n",
    "import torch\n",
    "import torch.nn as nn\n",
    "import torch.nn.functional as F\n",
    "import torch.optim as optim\n",
    "import torchvision \n",
    "from torchvision import datasets\n",
    "from torchvision import transforms\n",
    "from torch.autograd import Variable \n",
    "import numpy as np \n",
    "import tqdm \n",
    "from torch.utils import data \n",
    "import librosa\n",
    "from scipy.io import wavfile\n",
    "import json\n",
    "import random"
   ]
  },
  {
   "cell_type": "code",
   "execution_count": 2,
   "metadata": {},
   "outputs": [],
   "source": [
    "class Args(object):\n",
    "    def __init__(self, name=\"Net\", batch_size=8, test_batch_size=50,\n",
    "                epochs=30, lr=1e-4, optimizer='Adam', momentum=0.9, weight_decay=0.01,\n",
    "                seed=9, cuda = True):\n",
    "        self.name = name;\n",
    "        self.epochs = epochs\n",
    "        self.batch_size = batch_size\n",
    "        self.lr = lr\n",
    "        self.weight_decay = weight_decay\n",
    "        self.optimizer = optimizer\n",
    "        self.momentum = momentum\n",
    "        self.seed = seed\n",
    "        self.cuda = cuda and torch.cuda.is_available()"
   ]
  },
  {
   "cell_type": "code",
   "execution_count": 3,
   "metadata": {},
   "outputs": [],
   "source": [
    "class Encoder(nn.Module):\n",
    "    \"\"\"Encoder is part of both TrajectoryGenerator and\n",
    "    TrajectoryDiscriminator\"\"\"\n",
    "    def __init__(\n",
    "        self, embedding_dim=64, h_dim=64, mlp_dim=1024, num_layers=1,\n",
    "        dropout=0.0\n",
    "    ):\n",
    "        super(Encoder, self).__init__()\n",
    "\n",
    "        self.mlp_dim = 1024\n",
    "        self.h_dim = h_dim\n",
    "        self.embedding_dim = embedding_dim\n",
    "        self.num_layers = num_layers\n",
    "\n",
    "        self.encoder = nn.LSTM(\n",
    "            embedding_dim, h_dim, num_layers, dropout=dropout\n",
    "        )\n",
    "\n",
    "        self.spatial_embedding = nn.Linear(2, embedding_dim)\n",
    "\n",
    "    def init_hidden(self, batch):\n",
    "        return (\n",
    "            torch.zeros(self.num_layers, batch, self.h_dim).cuda(),\n",
    "            torch.zeros(self.num_layers, batch, self.h_dim).cuda()\n",
    "        )\n",
    "\n",
    "    def forward(self, obs_traj):\n",
    "        \"\"\"\n",
    "        Inputs:\n",
    "        - obs_traj: Tensor of shape (obs_len, batch, 2)\n",
    "        Output:\n",
    "        - final_h: Tensor of shape (self.num_layers, batch, self.h_dim)\n",
    "        \"\"\"\n",
    "        # Encode observed Trajectory\n",
    "        batch = obs_traj.size(1)\n",
    "        obs_traj_embedding = self.spatial_embedding(obs_traj.reshape(-1, 2))\n",
    "        obs_traj_embedding = obs_traj_embedding.view(\n",
    "            -1, batch, self.embedding_dim\n",
    "        )\n",
    "        state_tuple = self.init_hidden(batch)\n",
    "        output, state = self.encoder(obs_traj_embedding, state_tuple)\n",
    "        final_h = state[0]\n",
    "        return final_h"
   ]
  },
  {
   "cell_type": "code",
   "execution_count": 4,
   "metadata": {},
   "outputs": [],
   "source": [
    "class Decoder(nn.Module):\n",
    "    \"\"\"Decoder is part of TrajectoryGenerator\"\"\"\n",
    "    def __init__(\n",
    "        self, seq_len, embedding_dim=64, h_dim=128, mlp_dim=1024, num_layers=1,\n",
    "        dropout=0.0, bottleneck_dim=1024,activation='relu', batch_norm=True\n",
    "    ):\n",
    "        super(Decoder, self).__init__()\n",
    "\n",
    "        self.seq_len = seq_len\n",
    "        self.mlp_dim = mlp_dim\n",
    "        self.h_dim = h_dim \n",
    "        self.embedding_dim = embedding_dim\n",
    "        self.decoder = nn.LSTM(\n",
    "            embedding_dim, h_dim, num_layers, dropout=dropout\n",
    "        )\n",
    "        \n",
    "        self.spatial_embedding = nn.Linear(2, embedding_dim)\n",
    "        self.hidden2pos = nn.Linear(h_dim, 2)\n",
    "    \n",
    "    def init_hidden(self, batch):\n",
    "        return (\n",
    "            torch.zeros(self.num_layers, batch, self.h_dim).cuda(),\n",
    "            torch.zeros(self.num_layers, batch, self.h_dim).cuda()\n",
    "        )\n",
    "    \n",
    "    def forward(self, last_pos, state_tuple):\n",
    "        \"\"\"\n",
    "        Inputs:\n",
    "        - last_pos: Tensor of shape (batch, 2)\n",
    "        - state_tuple: (hh, ch) each tensor of shape (num_layers, batch, h_dim)\n",
    "        - pred_traj: tensor of shape (self.seq_len, batch, 2)\n",
    "        \"\"\"\n",
    "        batch = last_pos.size(0)\n",
    "        pred_traj = []\n",
    "        decoder_input = self.spatial_embedding(last_pos)\n",
    "        decoder_input = decoder_input.view(1, batch, self.embedding_dim)\n",
    "\n",
    "        for _ in range(self.seq_len):\n",
    "#             print(state_tuple[0].shape)\n",
    "            output, state_tuple = self.decoder(decoder_input, state_tuple)\n",
    "            rel_pos = self.hidden2pos(output.view(-1, self.h_dim))\n",
    "            curr_pos = rel_pos + last_pos\n",
    "\n",
    "            embedding_input = rel_pos\n",
    "\n",
    "            decoder_input = self.spatial_embedding(embedding_input)\n",
    "            decoder_input = decoder_input.view(1, batch, self.embedding_dim)\n",
    "            pred_traj.append(curr_pos.view(batch, -1))\n",
    "            last_pos = curr_pos\n",
    "            \n",
    "        pred_traj = torch.stack(pred_traj, dim=0)\n",
    "        return pred_traj, state_tuple[0]\n"
   ]
  },
  {
   "cell_type": "code",
   "execution_count": 5,
   "metadata": {},
   "outputs": [],
   "source": [
    "import json\n",
    "with open('partition.json') as f:\n",
    "    partition = json.load(f)"
   ]
  },
  {
   "cell_type": "code",
   "execution_count": 6,
   "metadata": {},
   "outputs": [],
   "source": [
    "normalizing_constant = 100\n",
    "class Dataset(data.Dataset):\n",
    "    \n",
    "    def __init__(self, list_IDs, transform=None):\n",
    "        #'Initialization'\n",
    "        self.list_IDs = list_IDs\n",
    "        self.transform = transform\n",
    "        \n",
    "    def __len__(self):\n",
    "        return len(self.list_IDs)\n",
    "    \n",
    "    def __getitem__(self, index):\n",
    "        # Generates one sample of data \n",
    "        ID = self.list_IDs[index]\n",
    "        y = np.load(\"dataset_archive/trajectory/traj\"+str(ID)+\".npy\")\n",
    "        y = y[0] - y\n",
    "        obs_traj = np.load(\"dataset_archive/obs_traj/obs_traj\"+str(ID)+\".npy\")\n",
    "        obs_traj = (obs_traj[0] - obs_traj).astype(float)\n",
    "        obs_traj /= normalizing_constant\n",
    "        \n",
    "        if y.shape[0] > 135:\n",
    "            y = y[0:135,:]\n",
    "        if y.shape[0] < 135:\n",
    "            for i in range(0, 135 - y.shape[0]):\n",
    "                y = np.append(y, y[-1].reshape(1,2), axis=0)\n",
    "        complete_traj = torch.from_numpy(y).type(torch.FloatTensor)\n",
    "        complete_traj /= normalizing_constant\n",
    "        return obs_traj, complete_traj[65:,:]"
   ]
  },
  {
   "cell_type": "code",
   "execution_count": 7,
   "metadata": {},
   "outputs": [],
   "source": [
    "args = Args()\n",
    "params = {'batch_size': args.batch_size,\n",
    "          'shuffle': True,\n",
    "          'num_workers': 4}\n",
    "# Generators\n",
    "training_set = Dataset(partition['train'])\n",
    "training_generator = data.DataLoader(training_set, **params)\n",
    "\n",
    "validation_set = Dataset(partition['val'])\n",
    "validation_generator = data.DataLoader(validation_set, **params)"
   ]
  },
  {
   "cell_type": "code",
   "execution_count": 8,
   "metadata": {},
   "outputs": [],
   "source": [
    "def make_mlp(dim_list, activation='relu', batch_norm=True, dropout=0):\n",
    "    layers = []\n",
    "    for dim_in, dim_out in zip(dim_list[:-1], dim_list[1:]):\n",
    "        layers.append(nn.Linear(dim_in, dim_out))\n",
    "        if batch_norm:\n",
    "            layers.append(nn.BatchNorm1d(dim_out))\n",
    "        if activation == 'relu':\n",
    "            layers.append(nn.ReLU())\n",
    "        elif activation == 'leakyrelu':\n",
    "            layers.append(nn.LeakyReLU())\n",
    "        if dropout > 0:\n",
    "            layers.append(nn.Dropout(p=dropout))\n",
    "    return nn.Sequential(*layers)"
   ]
  },
  {
   "cell_type": "code",
   "execution_count": 9,
   "metadata": {},
   "outputs": [],
   "source": [
    "class TrajectoryGenerator(nn.Module):\n",
    "    def __init__(\n",
    "        self, obs_len, pred_len, embedding_dim=64, encoder_h_dim=64,\n",
    "        decoder_h_dim=128, mlp_dim=1024, num_layers=2, dropout=0.0, bottleneck_dim=1024,\n",
    "        activation='relu', batch_norm=False\n",
    "    ):\n",
    "        super(TrajectoryGenerator, self).__init__()\n",
    "\n",
    "        self.obs_len = obs_len\n",
    "        self.pred_len = pred_len\n",
    "        self.mlp_dim = mlp_dim\n",
    "        self.encoder_h_dim = encoder_h_dim\n",
    "        self.decoder_h_dim = decoder_h_dim\n",
    "        self.embedding_dim = embedding_dim\n",
    "        self.num_layers = num_layers\n",
    "        self.bottleneck_dim = 1024\n",
    "\n",
    "        self.encoder = Encoder(\n",
    "            embedding_dim=embedding_dim,\n",
    "            h_dim=encoder_h_dim,\n",
    "            mlp_dim=mlp_dim,\n",
    "            num_layers=num_layers,\n",
    "            dropout=dropout\n",
    "        )\n",
    "\n",
    "        self.decoder = Decoder(\n",
    "            pred_len,\n",
    "            embedding_dim=embedding_dim,\n",
    "            h_dim=decoder_h_dim,\n",
    "            mlp_dim=mlp_dim,\n",
    "            num_layers=num_layers,\n",
    "            dropout=dropout,\n",
    "            bottleneck_dim=bottleneck_dim,\n",
    "            activation=activation,\n",
    "            batch_norm=batch_norm\n",
    "        )\n",
    "        \n",
    "        input_dim = encoder_h_dim\n",
    "        mlp_decoder_context_dims = [\n",
    "                input_dim, mlp_dim, decoder_h_dim\n",
    "            ]\n",
    "        \n",
    "        self.mlp_decoder_context = make_mlp(\n",
    "                mlp_decoder_context_dims,\n",
    "                activation=activation,\n",
    "                batch_norm=batch_norm,\n",
    "                dropout=dropout\n",
    "            )\n",
    "\n",
    "\n",
    "    def forward(self, obs_traj):\n",
    "        \"\"\"\n",
    "        Inputs:\n",
    "        - obs_traj: Tensor of shape (obs_len, batch, 2)\n",
    "        \"\"\"\n",
    "        obs_traj = obs_traj.permute(1,0,2)\n",
    "        batch = obs_traj.size(1)\n",
    "        # Encode seq\n",
    "        final_encoder_h = self.encoder(obs_traj)\n",
    "        \n",
    "        decoder_h = self.mlp_decoder_context(final_encoder_h.view(-1, self.encoder_h_dim))\n",
    "        decoder_h = torch.unsqueeze(decoder_h, 0)\n",
    "        decoder_h = decoder_h.view(self.num_layers, batch, self.decoder_h_dim)\n",
    "        decoder_c = torch.zeros(\n",
    "            self.num_layers, batch, self.decoder_h_dim\n",
    "        ).cuda()\n",
    "\n",
    "        state_tuple = (decoder_h, decoder_c)\n",
    "        last_pos = obs_traj[-1]\n",
    "        # Predict Trajectory\n",
    "\n",
    "        decoder_out = self.decoder(\n",
    "            last_pos,\n",
    "            state_tuple\n",
    "        )\n",
    "        pred_traj, final_decoder_h = decoder_out\n",
    "\n",
    "        return pred_traj"
   ]
  },
  {
   "cell_type": "code",
   "execution_count": 10,
   "metadata": {},
   "outputs": [],
   "source": [
    "model = TrajectoryGenerator(65, 70)\n",
    "if args.cuda:\n",
    "    model = model.cuda()\n",
    "train_losses, train_accs = [], []\n",
    "val_losses, val_accs = [], []\n",
    "optimizer = optim.Adam(model.parameters(), lr=args.lr, weight_decay=args.weight_decay)"
   ]
  },
  {
   "cell_type": "code",
   "execution_count": 11,
   "metadata": {
    "scrolled": true
   },
   "outputs": [
    {
     "name": "stderr",
     "output_type": "stream",
     "text": [
      "\r",
      "Training:   0%|          | 0/144 [00:00<?, ?it/s]"
     ]
    },
    {
     "name": "stdout",
     "output_type": "stream",
     "text": [
      "epoch 0\n"
     ]
    },
    {
     "name": "stderr",
     "output_type": "stream",
     "text": [
      "Epoch: 0 loss: 115.3345: 100%|██████████| 144/144 [00:10<00:00, 13.38it/s]\n",
      "Validation: 100%|██████████| 16/16 [00:00<00:00, 32.23it/s]\n",
      "/home/frankbu/.local/lib/python3.6/site-packages/torch/serialization.py:402: UserWarning: Couldn't retrieve source code for container of type TrajectoryGenerator. It won't be checked for correctness upon loading.\n",
      "  \"type \" + obj.__name__ + \". It won't be checked \"\n",
      "/home/frankbu/.local/lib/python3.6/site-packages/torch/serialization.py:402: UserWarning: Couldn't retrieve source code for container of type Encoder. It won't be checked for correctness upon loading.\n",
      "  \"type \" + obj.__name__ + \". It won't be checked \"\n",
      "/home/frankbu/.local/lib/python3.6/site-packages/torch/serialization.py:402: UserWarning: Couldn't retrieve source code for container of type Decoder. It won't be checked for correctness upon loading.\n",
      "  \"type \" + obj.__name__ + \". It won't be checked \"\n",
      "Training:   0%|          | 0/144 [00:00<?, ?it/s]"
     ]
    },
    {
     "name": "stdout",
     "output_type": "stream",
     "text": [
      "\n",
      "Epoch: 0 validation test results - Average val_loss: 3.0180\n",
      "epoch 1\n"
     ]
    },
    {
     "name": "stderr",
     "output_type": "stream",
     "text": [
      "Epoch: 1 loss: 91.5117: 100%|██████████| 144/144 [00:10<00:00, 13.40it/s] \n",
      "Validation: 100%|██████████| 16/16 [00:00<00:00, 32.76it/s]\n",
      "Training:   0%|          | 0/144 [00:00<?, ?it/s]"
     ]
    },
    {
     "name": "stdout",
     "output_type": "stream",
     "text": [
      "\n",
      "Epoch: 1 validation test results - Average val_loss: 2.4400\n",
      "epoch 2\n"
     ]
    },
    {
     "name": "stderr",
     "output_type": "stream",
     "text": [
      "Epoch: 2 loss: 44.2752: 100%|██████████| 144/144 [00:10<00:00, 13.38it/s] \n",
      "Validation: 100%|██████████| 16/16 [00:00<00:00, 33.01it/s]\n",
      "Training:   0%|          | 0/144 [00:00<?, ?it/s]"
     ]
    },
    {
     "name": "stdout",
     "output_type": "stream",
     "text": [
      "\n",
      "Epoch: 2 validation test results - Average val_loss: 2.3125\n",
      "epoch 3\n"
     ]
    },
    {
     "name": "stderr",
     "output_type": "stream",
     "text": [
      "Epoch: 3 loss: 69.6592: 100%|██████████| 144/144 [00:10<00:00, 13.48it/s] \n",
      "Validation: 100%|██████████| 16/16 [00:00<00:00, 32.77it/s]\n",
      "Training:   0%|          | 0/144 [00:00<?, ?it/s]"
     ]
    },
    {
     "name": "stdout",
     "output_type": "stream",
     "text": [
      "\n",
      "Epoch: 3 validation test results - Average val_loss: 2.3635\n",
      "epoch 4\n"
     ]
    },
    {
     "name": "stderr",
     "output_type": "stream",
     "text": [
      "Epoch: 4 loss: 31.0373: 100%|██████████| 144/144 [00:10<00:00, 13.52it/s] \n",
      "Validation: 100%|██████████| 16/16 [00:00<00:00, 32.48it/s]\n",
      "Training:   0%|          | 0/144 [00:00<?, ?it/s]"
     ]
    },
    {
     "name": "stdout",
     "output_type": "stream",
     "text": [
      "\n",
      "Epoch: 4 validation test results - Average val_loss: 2.2506\n",
      "epoch 5\n"
     ]
    },
    {
     "name": "stderr",
     "output_type": "stream",
     "text": [
      "Epoch: 5 loss: 33.7456: 100%|██████████| 144/144 [00:10<00:00, 13.40it/s] \n",
      "Validation: 100%|██████████| 16/16 [00:00<00:00, 32.83it/s]\n",
      "Training:   0%|          | 0/144 [00:00<?, ?it/s]"
     ]
    },
    {
     "name": "stdout",
     "output_type": "stream",
     "text": [
      "\n",
      "Epoch: 5 validation test results - Average val_loss: 2.3527\n",
      "epoch 6\n"
     ]
    },
    {
     "name": "stderr",
     "output_type": "stream",
     "text": [
      "Epoch: 6 loss: 39.6318: 100%|██████████| 144/144 [00:10<00:00, 13.31it/s] \n",
      "Validation: 100%|██████████| 16/16 [00:00<00:00, 32.80it/s]\n",
      "Training:   0%|          | 0/144 [00:00<?, ?it/s]"
     ]
    },
    {
     "name": "stdout",
     "output_type": "stream",
     "text": [
      "\n",
      "Epoch: 6 validation test results - Average val_loss: 2.3781\n",
      "epoch 7\n"
     ]
    },
    {
     "name": "stderr",
     "output_type": "stream",
     "text": [
      "Epoch: 7 loss: 25.6979: 100%|██████████| 144/144 [00:10<00:00, 13.36it/s] \n",
      "Validation: 100%|██████████| 16/16 [00:00<00:00, 32.96it/s]\n",
      "Training:   0%|          | 0/144 [00:00<?, ?it/s]"
     ]
    },
    {
     "name": "stdout",
     "output_type": "stream",
     "text": [
      "\n",
      "Epoch: 7 validation test results - Average val_loss: 2.3090\n",
      "epoch 8\n"
     ]
    },
    {
     "name": "stderr",
     "output_type": "stream",
     "text": [
      "Epoch: 8 loss: 31.5527: 100%|██████████| 144/144 [00:10<00:00, 13.34it/s] \n",
      "Validation: 100%|██████████| 16/16 [00:00<00:00, 32.54it/s]\n",
      "Training:   0%|          | 0/144 [00:00<?, ?it/s]"
     ]
    },
    {
     "name": "stdout",
     "output_type": "stream",
     "text": [
      "\n",
      "Epoch: 8 validation test results - Average val_loss: 2.4632\n",
      "epoch 9\n"
     ]
    },
    {
     "name": "stderr",
     "output_type": "stream",
     "text": [
      "Epoch: 9 loss: 43.2174: 100%|██████████| 144/144 [00:10<00:00, 13.34it/s] \n",
      "Validation: 100%|██████████| 16/16 [00:00<00:00, 33.29it/s]\n",
      "Training:   0%|          | 0/144 [00:00<?, ?it/s]"
     ]
    },
    {
     "name": "stdout",
     "output_type": "stream",
     "text": [
      "\n",
      "Epoch: 9 validation test results - Average val_loss: 2.2886\n",
      "epoch 10\n"
     ]
    },
    {
     "name": "stderr",
     "output_type": "stream",
     "text": [
      "Epoch: 10 loss: 52.1109: 100%|██████████| 144/144 [00:10<00:00, 13.32it/s] \n",
      "Validation: 100%|██████████| 16/16 [00:00<00:00, 32.80it/s]\n",
      "Training:   0%|          | 0/144 [00:00<?, ?it/s]"
     ]
    },
    {
     "name": "stdout",
     "output_type": "stream",
     "text": [
      "2e-05\n",
      "\n",
      "Epoch: 10 validation test results - Average val_loss: 2.4066\n",
      "epoch 11\n"
     ]
    },
    {
     "name": "stderr",
     "output_type": "stream",
     "text": [
      "Epoch: 11 loss: 33.6368: 100%|██████████| 144/144 [00:10<00:00, 13.77it/s] \n",
      "Validation: 100%|██████████| 16/16 [00:00<00:00, 32.83it/s]\n",
      "Training:   0%|          | 0/144 [00:00<?, ?it/s]"
     ]
    },
    {
     "name": "stdout",
     "output_type": "stream",
     "text": [
      "\n",
      "Epoch: 11 validation test results - Average val_loss: 2.2031\n",
      "epoch 12\n"
     ]
    },
    {
     "name": "stderr",
     "output_type": "stream",
     "text": [
      "Epoch: 12 loss: 34.1245: 100%|██████████| 144/144 [00:10<00:00, 13.26it/s] \n",
      "Validation: 100%|██████████| 16/16 [00:00<00:00, 32.40it/s]\n",
      "Training:   0%|          | 0/144 [00:00<?, ?it/s]"
     ]
    },
    {
     "name": "stdout",
     "output_type": "stream",
     "text": [
      "\n",
      "Epoch: 12 validation test results - Average val_loss: 2.2097\n",
      "epoch 13\n"
     ]
    },
    {
     "name": "stderr",
     "output_type": "stream",
     "text": [
      "Epoch: 13 loss: 23.3927: 100%|██████████| 144/144 [00:10<00:00, 13.35it/s] \n",
      "Validation: 100%|██████████| 16/16 [00:00<00:00, 33.00it/s]\n",
      "Training:   0%|          | 0/144 [00:00<?, ?it/s]"
     ]
    },
    {
     "name": "stdout",
     "output_type": "stream",
     "text": [
      "\n",
      "Epoch: 13 validation test results - Average val_loss: 2.2166\n",
      "epoch 14\n"
     ]
    },
    {
     "name": "stderr",
     "output_type": "stream",
     "text": [
      "Epoch: 14 loss: 21.5829: 100%|██████████| 144/144 [00:10<00:00, 13.52it/s] \n",
      "Validation: 100%|██████████| 16/16 [00:00<00:00, 32.94it/s]\n",
      "Training:   0%|          | 0/144 [00:00<?, ?it/s]"
     ]
    },
    {
     "name": "stdout",
     "output_type": "stream",
     "text": [
      "\n",
      "Epoch: 14 validation test results - Average val_loss: 2.1986\n",
      "epoch 15\n"
     ]
    },
    {
     "name": "stderr",
     "output_type": "stream",
     "text": [
      "Epoch: 15 loss: 65.2406: 100%|██████████| 144/144 [00:10<00:00, 13.46it/s] \n",
      "Validation: 100%|██████████| 16/16 [00:00<00:00, 33.13it/s]\n",
      "Training:   0%|          | 0/144 [00:00<?, ?it/s]"
     ]
    },
    {
     "name": "stdout",
     "output_type": "stream",
     "text": [
      "\n",
      "Epoch: 15 validation test results - Average val_loss: 2.1725\n",
      "epoch 16\n"
     ]
    },
    {
     "name": "stderr",
     "output_type": "stream",
     "text": [
      "Epoch: 16 loss: 28.4368: 100%|██████████| 144/144 [00:10<00:00, 13.36it/s] \n",
      "Validation: 100%|██████████| 16/16 [00:00<00:00, 33.15it/s]\n",
      "Training:   0%|          | 0/144 [00:00<?, ?it/s]"
     ]
    },
    {
     "name": "stdout",
     "output_type": "stream",
     "text": [
      "\n",
      "Epoch: 16 validation test results - Average val_loss: 2.2550\n",
      "epoch 17\n"
     ]
    },
    {
     "name": "stderr",
     "output_type": "stream",
     "text": [
      "Epoch: 17 loss: 64.8611: 100%|██████████| 144/144 [00:10<00:00, 13.25it/s] \n",
      "Validation: 100%|██████████| 16/16 [00:00<00:00, 32.73it/s]\n",
      "Training:   0%|          | 0/144 [00:00<?, ?it/s]"
     ]
    },
    {
     "name": "stdout",
     "output_type": "stream",
     "text": [
      "\n",
      "Epoch: 17 validation test results - Average val_loss: 2.2299\n",
      "epoch 18\n"
     ]
    },
    {
     "name": "stderr",
     "output_type": "stream",
     "text": [
      "Epoch: 18 loss: 45.1755: 100%|██████████| 144/144 [00:10<00:00, 13.18it/s] \n",
      "Validation: 100%|██████████| 16/16 [00:00<00:00, 32.21it/s]\n",
      "Training:   0%|          | 0/144 [00:00<?, ?it/s]"
     ]
    },
    {
     "name": "stdout",
     "output_type": "stream",
     "text": [
      "\n",
      "Epoch: 18 validation test results - Average val_loss: 2.1912\n",
      "epoch 19\n"
     ]
    },
    {
     "name": "stderr",
     "output_type": "stream",
     "text": [
      "Epoch: 19 loss: 45.3604: 100%|██████████| 144/144 [00:10<00:00, 13.21it/s] \n",
      "Validation: 100%|██████████| 16/16 [00:00<00:00, 33.02it/s]\n",
      "Training:   0%|          | 0/144 [00:00<?, ?it/s]"
     ]
    },
    {
     "name": "stdout",
     "output_type": "stream",
     "text": [
      "\n",
      "Epoch: 19 validation test results - Average val_loss: 2.1918\n",
      "epoch 20\n"
     ]
    },
    {
     "name": "stderr",
     "output_type": "stream",
     "text": [
      "Epoch: 20 loss: 28.7131: 100%|██████████| 144/144 [00:10<00:00, 13.28it/s] \n",
      "Validation: 100%|██████████| 16/16 [00:00<00:00, 32.40it/s]\n",
      "Training:   0%|          | 0/144 [00:00<?, ?it/s]"
     ]
    },
    {
     "name": "stdout",
     "output_type": "stream",
     "text": [
      "4.000000000000001e-06\n",
      "\n",
      "Epoch: 20 validation test results - Average val_loss: 2.2714\n",
      "epoch 21\n"
     ]
    },
    {
     "name": "stderr",
     "output_type": "stream",
     "text": [
      "Epoch: 21 loss: 31.6248: 100%|██████████| 144/144 [00:10<00:00, 13.50it/s] \n",
      "Validation: 100%|██████████| 16/16 [00:00<00:00, 32.71it/s]\n",
      "Training:   0%|          | 0/144 [00:00<?, ?it/s]"
     ]
    },
    {
     "name": "stdout",
     "output_type": "stream",
     "text": [
      "\n",
      "Epoch: 21 validation test results - Average val_loss: 2.1909\n",
      "epoch 22\n"
     ]
    },
    {
     "name": "stderr",
     "output_type": "stream",
     "text": [
      "Epoch: 22 loss: 28.0291: 100%|██████████| 144/144 [00:10<00:00, 13.46it/s] \n",
      "Validation: 100%|██████████| 16/16 [00:00<00:00, 33.49it/s]\n",
      "Training:   0%|          | 0/144 [00:00<?, ?it/s]"
     ]
    },
    {
     "name": "stdout",
     "output_type": "stream",
     "text": [
      "\n",
      "Epoch: 22 validation test results - Average val_loss: 2.1897\n",
      "epoch 23\n"
     ]
    },
    {
     "name": "stderr",
     "output_type": "stream",
     "text": [
      "Epoch: 23 loss: 35.8775: 100%|██████████| 144/144 [00:10<00:00, 13.43it/s] \n",
      "Validation: 100%|██████████| 16/16 [00:00<00:00, 33.33it/s]\n",
      "Training:   0%|          | 0/144 [00:00<?, ?it/s]"
     ]
    },
    {
     "name": "stdout",
     "output_type": "stream",
     "text": [
      "\n",
      "Epoch: 23 validation test results - Average val_loss: 2.1619\n",
      "epoch 24\n"
     ]
    },
    {
     "name": "stderr",
     "output_type": "stream",
     "text": [
      "Epoch: 24 loss: 20.2337: 100%|██████████| 144/144 [00:10<00:00, 13.47it/s] \n",
      "Validation: 100%|██████████| 16/16 [00:00<00:00, 31.39it/s]\n",
      "Training:   0%|          | 0/144 [00:00<?, ?it/s]"
     ]
    },
    {
     "name": "stdout",
     "output_type": "stream",
     "text": [
      "\n",
      "Epoch: 24 validation test results - Average val_loss: 2.1783\n",
      "epoch 25\n"
     ]
    },
    {
     "name": "stderr",
     "output_type": "stream",
     "text": [
      "Epoch: 25 loss: 51.6971: 100%|██████████| 144/144 [00:10<00:00, 13.52it/s] \n",
      "Validation: 100%|██████████| 16/16 [00:00<00:00, 32.70it/s]\n",
      "Training:   0%|          | 0/144 [00:00<?, ?it/s]"
     ]
    },
    {
     "name": "stdout",
     "output_type": "stream",
     "text": [
      "\n",
      "Epoch: 25 validation test results - Average val_loss: 2.1630\n",
      "epoch 26\n"
     ]
    },
    {
     "name": "stderr",
     "output_type": "stream",
     "text": [
      "Epoch: 26 loss: 18.3820: 100%|██████████| 144/144 [00:10<00:00, 13.62it/s] \n",
      "Validation: 100%|██████████| 16/16 [00:00<00:00, 32.77it/s]\n",
      "Training:   0%|          | 0/144 [00:00<?, ?it/s]"
     ]
    },
    {
     "name": "stdout",
     "output_type": "stream",
     "text": [
      "\n",
      "Epoch: 26 validation test results - Average val_loss: 2.2081\n",
      "epoch 27\n"
     ]
    },
    {
     "name": "stderr",
     "output_type": "stream",
     "text": [
      "Epoch: 27 loss: 34.2282: 100%|██████████| 144/144 [00:10<00:00, 13.38it/s] \n",
      "Validation: 100%|██████████| 16/16 [00:00<00:00, 33.20it/s]\n",
      "Training:   0%|          | 0/144 [00:00<?, ?it/s]"
     ]
    },
    {
     "name": "stdout",
     "output_type": "stream",
     "text": [
      "\n",
      "Epoch: 27 validation test results - Average val_loss: 2.1884\n",
      "epoch 28\n"
     ]
    },
    {
     "name": "stderr",
     "output_type": "stream",
     "text": [
      "Epoch: 28 loss: 27.3350: 100%|██████████| 144/144 [00:10<00:00, 13.43it/s] \n",
      "Validation: 100%|██████████| 16/16 [00:00<00:00, 33.52it/s]\n",
      "Training:   0%|          | 0/144 [00:00<?, ?it/s]"
     ]
    },
    {
     "name": "stdout",
     "output_type": "stream",
     "text": [
      "\n",
      "Epoch: 28 validation test results - Average val_loss: 2.1833\n",
      "epoch 29\n"
     ]
    },
    {
     "name": "stderr",
     "output_type": "stream",
     "text": [
      "Epoch: 29 loss: 33.0387: 100%|██████████| 144/144 [00:10<00:00, 13.50it/s] \n",
      "Validation: 100%|██████████| 16/16 [00:00<00:00, 32.84it/s]\n"
     ]
    },
    {
     "name": "stdout",
     "output_type": "stream",
     "text": [
      "\n",
      "Epoch: 29 validation test results - Average val_loss: 2.1588\n"
     ]
    }
   ],
   "source": [
    "min_test_loss = 10000.\n",
    "for epoch in range(args.epochs):\n",
    "    # Training\n",
    "    print(\"epoch \" + str(epoch))\n",
    "    model.train()\n",
    "    \n",
    "    orrect_count, total_loss, total_acc = 0., 0., 0.\n",
    "    progress_bar = tqdm.tqdm(training_generator, desc='Training')\n",
    "    \n",
    "    for batch_idx, (data, target) in enumerate(progress_bar):\n",
    "        correct_count, total_loss, total_acc = 0., 0., 0.\n",
    "\n",
    "        if args.cuda:\n",
    "            data, target = data.cuda(), target.cuda()\n",
    "        data, target = Variable(data).float(), Variable(target).float()\n",
    "\n",
    "        optimizer.zero_grad()\n",
    "        output = model(data)\n",
    "        output = output.permute(1,0,2)\n",
    "        loss_x = F.mse_loss(output[:,:,0], target[:,:,0],reduction=\"sum\") \n",
    "        loss_y = F.mse_loss(output[:,:,1], target[:,:,1],reduction=\"sum\")\n",
    "        loss = loss_x + loss_y\n",
    "        loss.backward()\n",
    "        optimizer.step()\n",
    "        \n",
    "        train_losses.append(loss.data.item())\n",
    "        \n",
    "        total_loss += loss.data\n",
    "        \n",
    "        progress_bar.clear()\n",
    "        progress_bar.set_description(\n",
    "            'Epoch: {} loss: {:.4f}'.format(\n",
    "                epoch, total_loss / (batch_idx + 1)))\n",
    "        progress_bar.refresh()\n",
    "        \n",
    "    model.eval()\n",
    "    \n",
    "    test_loss, correct, acc = 0., 0., 0.\n",
    "    progress_bar = tqdm.tqdm(validation_generator, desc='Validation')\n",
    "    with torch.no_grad():\n",
    "        for data, target in progress_bar:\n",
    "            if args.cuda:\n",
    "                data, target = data.cuda(), target.cuda()\n",
    "            data, target = Variable(data).float(), Variable(target).float()\n",
    "\n",
    "            output = model(data)\n",
    "            output = output.permute(1,0,2)\n",
    "            loss_x = F.mse_loss(output[:,:,0], target[:,:,0]) \n",
    "            loss_y = F.mse_loss(output[:,:,1], target[:,:,1])\n",
    "            test_loss += (loss_x + loss_y)\n",
    "    test_loss /= len(partition['val'])\n",
    "    val_losses.append(test_loss.item())\n",
    "    \n",
    "    if epoch % 10 == 0 and epoch != 0:\n",
    "        args.lr /= 5\n",
    "        for param_group in optimizer.param_groups:\n",
    "            param_group['lr'] = args.lr\n",
    "            print(param_group['lr'])\n",
    "    \n",
    "    progress_bar.clear()\n",
    "    progress_bar.write(\n",
    "        '\\nEpoch: {} validation test results - Average val_loss: {:.4f}'.format(\n",
    "            epoch, test_loss))\n",
    "    \n",
    "    if (test_loss < min_test_loss):\n",
    "        torch.save(model, \"vision_checkpoint_new.pkl\")\n",
    "        min_test_loss = test_loss"
   ]
  },
  {
   "cell_type": "code",
   "execution_count": null,
   "metadata": {},
   "outputs": [],
   "source": []
  },
  {
   "cell_type": "code",
   "execution_count": null,
   "metadata": {},
   "outputs": [],
   "source": []
  }
 ],
 "metadata": {
  "kernelspec": {
   "display_name": "Python 3",
   "language": "python",
   "name": "python3"
  },
  "language_info": {
   "codemirror_mode": {
    "name": "ipython",
    "version": 3
   },
   "file_extension": ".py",
   "mimetype": "text/x-python",
   "name": "python",
   "nbconvert_exporter": "python",
   "pygments_lexer": "ipython3",
   "version": "3.6.9"
  }
 },
 "nbformat": 4,
 "nbformat_minor": 4
}
