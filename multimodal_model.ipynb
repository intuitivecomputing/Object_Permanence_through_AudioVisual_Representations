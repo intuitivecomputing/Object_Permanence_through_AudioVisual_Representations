{
 "cells": [
  {
   "cell_type": "code",
   "execution_count": 1,
   "metadata": {},
   "outputs": [],
   "source": [
    "import matplotlib.pyplot as plt\n",
    "import torch\n",
    "import torch.nn as nn\n",
    "import torch.nn.functional as F\n",
    "import torch.optim as optim\n",
    "import torchvision \n",
    "from torchvision import datasets\n",
    "from torchvision import transforms\n",
    "from torch.autograd import Variable \n",
    "import numpy as np \n",
    "import tqdm \n",
    "from torch.utils import data \n",
    "import librosa\n",
    "from scipy.io import wavfile\n",
    "import json\n",
    "import random\n",
    "from scipy.signal import spectrogram"
   ]
  },
  {
   "cell_type": "code",
   "execution_count": 2,
   "metadata": {},
   "outputs": [],
   "source": [
    "# Read in index for train, validation, test\n",
    "with open('partition.json') as f:\n",
    "    partition = json.load(f)"
   ]
  },
  {
   "cell_type": "code",
   "execution_count": 3,
   "metadata": {},
   "outputs": [],
   "source": [
    "# constants used for normalizing (in pixel coordinate)\n",
    "com_traj_minx = -1476\n",
    "com_traj_maxx = 1758\n",
    "com_traj_miny = -678\n",
    "com_traj_maxy = 1785"
   ]
  },
  {
   "cell_type": "code",
   "execution_count": 4,
   "metadata": {},
   "outputs": [],
   "source": [
    "class Dataset(data.Dataset):\n",
    "    \n",
    "    def __init__(self, list_IDs, transform=None):\n",
    "        #'Initialization'\n",
    "        self.list_IDs = list_IDs\n",
    "        self.transform = transform\n",
    "        \n",
    "    def __len__(self):\n",
    "        return len(self.list_IDs)\n",
    "    \n",
    "    def __getitem__(self, index):\n",
    "        # Generates one sample of data \n",
    "        ID = self.list_IDs[index]\n",
    "        filename = 'dataset_archive/audio/audio' + str(ID) + '.wav'\n",
    "        srate, audio = wavfile.read(filename)\n",
    "        audio = np.array(audio)\n",
    "        \n",
    "        # Audio Feature Extraction\n",
    "        for i in range(0,7):\n",
    "            freq,t,phase = spectrogram(audio[:,i], nperseg=512 , noverlap=256, mode='phase')\n",
    "            freq,t,mag = spectrogram(audio[:,i], nperseg=512, noverlap=256, mode='magnitude')\n",
    "            if (i == 0):\n",
    "                audio_phase = torch.from_numpy(phase).unsqueeze(2).float()\n",
    "                audio_mag = torch.from_numpy(mag).unsqueeze(2).float()\n",
    "            else:\n",
    "                audio_phase = torch.cat((audio_phase, torch.from_numpy(phase).unsqueeze(2).float()),2)\n",
    "                audio_mag = torch.cat((audio_mag, torch.from_numpy(mag).unsqueeze(2).float()),2)\n",
    "        audio_img = torch.cat((audio_mag, audio_phase), 2)\n",
    "        audio_img = audio_img.permute(1,0,2)\n",
    "        \n",
    "        # Process complete trajectory and partially observed trajectory\n",
    "        complete_traj = np.load(\"dataset_archive/trajectory/traj\"+str(ID)+\".npy\")\n",
    "        complete_traj = (complete_traj[0] - complete_traj).astype(float)\n",
    "        obs_traj = np.load(\"dataset_archive/obs_traj/obs_traj\"+str(ID)+\".npy\") \n",
    "        obs_traj = (obs_traj[0] - obs_traj).astype(float)\n",
    "        obs_traj[:,0] = (obs_traj[:,0] - com_traj_minx) / (com_traj_maxx - com_traj_minx)\n",
    "        obs_traj[:,1] = (obs_traj[:,1] - com_traj_miny) / (com_traj_maxy - com_traj_miny)\n",
    "        complete_traj[:,0] = (complete_traj[:,0] - com_traj_minx) / (com_traj_maxx - com_traj_minx)\n",
    "        complete_traj[:,1] = (complete_traj[:,1] - com_traj_miny) / (com_traj_maxy - com_traj_miny)\n",
    "    \n",
    "        if complete_traj.shape[0] > 135:\n",
    "            complete_traj = complete_traj[0:135,:]\n",
    "        if complete_traj.shape[0] < 135:\n",
    "            for i in range(0, 135 - complete_traj.shape[0]):\n",
    "                complete_traj = np.append(complete_traj, complete_traj[-1].reshape(1,2), axis=0)    \n",
    "\n",
    "        complete_traj = torch.from_numpy(complete_traj).type(torch.FloatTensor)\n",
    "        obs_traj = torch.from_numpy(obs_traj).type(torch.FloatTensor)\n",
    "\n",
    "        return (audio_img, obs_traj), complete_traj"
   ]
  },
  {
   "cell_type": "code",
   "execution_count": 5,
   "metadata": {},
   "outputs": [],
   "source": [
    "class Args(object):\n",
    "    def __init__(self, name=\"Net\", batch_size=4, test_batch_size=50,\n",
    "                epochs=30, lr=1e-4, optimizer='Adam', momentum=0.9, weight_decay=0.0,\n",
    "                seed=0, cuda = True):\n",
    "        self.name = name;\n",
    "        self.epochs = epochs\n",
    "        self.batch_size = batch_size\n",
    "        self.lr = lr\n",
    "        self.weight_decay = weight_decay\n",
    "        self.optimizer = optimizer\n",
    "        self.momentum = momentum\n",
    "        self.seed = seed\n",
    "        self.cuda = cuda and torch.cuda.is_available()"
   ]
  },
  {
   "cell_type": "code",
   "execution_count": 6,
   "metadata": {},
   "outputs": [],
   "source": [
    "args = Args()\n",
    "params = {'batch_size': args.batch_size,\n",
    "          'shuffle': True,\n",
    "          'num_workers': 4}\n",
    "# Generators\n",
    "training_set = Dataset(partition['train'])\n",
    "training_generator = data.DataLoader(training_set, **params)\n",
    "\n",
    "validation_set = Dataset(partition['val'])\n",
    "validation_generator = data.DataLoader(validation_set, **params)"
   ]
  },
  {
   "cell_type": "code",
   "execution_count": 7,
   "metadata": {},
   "outputs": [],
   "source": [
    "class Encoder(nn.Module):\n",
    "    \"\"\"Bidirectional GRU\"\"\"\n",
    "    def __init__(\n",
    "        self, embedding_dim=64, h_dim=64, num_layers=1,\n",
    "        dropout=0.0, bidirectional = True\n",
    "    ):\n",
    "        super(Encoder, self).__init__()\n",
    "\n",
    "        self.hidden_dim = h_dim\n",
    "        self.embedding_dim = embedding_dim\n",
    "        self.num_layers = num_layers\n",
    "        self.bidirectional = bidirectional\n",
    "\n",
    "        self.encoder = nn.GRU(\n",
    "            embedding_dim, h_dim, num_layers, dropout=dropout, bidirectional=bidirectional\n",
    "        )\n",
    "\n",
    "        self.spatial_embedding = nn.Linear(64, embedding_dim)\n",
    "\n",
    "    def init_hidden(self, batch_size):\n",
    "        if not self.bidirectional:\n",
    "            return torch.zeros(self.num_layers, batch_size, self.hidden_dim).cuda()\n",
    "        return torch.zeros(self.num_layers*2, batch_size, self.hidden_dim).cuda()\n",
    "\n",
    "    def forward(self, obs_traj):\n",
    "        \"\"\"\n",
    "        Inputs:\n",
    "        - obs_traj: Tensor of shape (obs_len, batch, 2)\n",
    "        \"\"\"\n",
    "        # Encode observed Trajectory\n",
    "        batch_size = obs_traj.size(1)\n",
    "        state_tuple = self.init_hidden(batch_size)\n",
    "        output, state = self.encoder(obs_traj, state_tuple)\n",
    "        final_h = state[0]\n",
    "        return output, final_h"
   ]
  },
  {
   "cell_type": "code",
   "execution_count": 8,
   "metadata": {},
   "outputs": [],
   "source": [
    "class Net(nn.Module):\n",
    "    def __init__(self):\n",
    "        super(Net, self).__init__()\n",
    "        self.cn1 = nn.Conv3d(in_channels=1, out_channels=64, kernel_size=(5,5,14), padding=(1,1,3))\n",
    "        self.batchNorm1 = nn.BatchNorm3d(64)\n",
    "        self.pooling1 = nn.MaxPool3d(kernel_size = (1,8,1), stride=(1,4,1))\n",
    "        self.cn2 = nn.Conv3d(in_channels=64, out_channels=64, kernel_size=(5,5,7), padding=(1,1,2))\n",
    "        self.batchNorm2 = nn.BatchNorm3d(64)\n",
    "        self.pooling2 = nn.MaxPool3d(kernel_size = (1,8,1), stride=(1,4,1))\n",
    "        self.cn3 = nn.Conv3d(in_channels=64, out_channels=64, kernel_size=(3,3,5), padding=(1,1,1))\n",
    "        self.batchNorm3 = nn.BatchNorm3d(64)\n",
    "        self.pooling3 = nn.MaxPool3d(kernel_size = (1,4,1), stride=(1,2,1))\n",
    "        self.cn4 = nn.Conv3d(in_channels=64, out_channels=64, kernel_size=(3,3,3), padding=(1,0,0))\n",
    "        self.batchNorm4 = nn.BatchNorm3d(64)\n",
    "        self.pooling4 = nn.MaxPool3d(kernel_size = (1,4,1), stride=(1,2,1))\n",
    "        \n",
    "        self.biGRU1 = Encoder(\n",
    "            embedding_dim=64,\n",
    "            h_dim=64,\n",
    "            num_layers=1,\n",
    "            dropout=0\n",
    "        )\n",
    "        \n",
    "        self.ln = nn.Linear(128, 64)\n",
    "        \n",
    "        self.biGRU2 = Encoder(\n",
    "            embedding_dim=64,\n",
    "            h_dim=64,\n",
    "            num_layers=1,\n",
    "            dropout=0\n",
    "        )\n",
    "        \n",
    "        self.vision_encoder1 = nn.Linear(65, 256)\n",
    "        self.vision_encoder2 = nn.Linear(256, 555)\n",
    "        self.vision_encoder3 = nn.Linear(2, 128)\n",
    "        \n",
    "        \n",
    "        \n",
    "        self.fusion_module1 = nn.Linear(555, 256)\n",
    "        self.fusion_module2 = nn.Linear(256, 135)\n",
    "        \n",
    "        self.traj_predictor1 = nn.Linear(256, 64)\n",
    "        self.dropout = nn.Dropout(0.2)\n",
    "        self.traj_predictor2 = nn.Linear(64, 16)\n",
    "        self.dropout1 = nn.Dropout(0.1)\n",
    "        self.traj_predictor3 = nn.Linear(16, 2)\n",
    "\n",
    "        \n",
    "    def forward(self, x, obs):\n",
    "        \n",
    "        obs = obs.permute(0,2,1)\n",
    "        obs = F.relu(self.vision_encoder1(obs))\n",
    "        obs = F.relu(self.vision_encoder2(obs))\n",
    "        obs = obs.permute(0,2,1)\n",
    "        obs = F.relu(self.vision_encoder3(obs))\n",
    "        \n",
    "        x = x.unsqueeze(1)\n",
    "        x = F.relu(self.cn1(x))\n",
    "        x = self.batchNorm1(x)\n",
    "        x = self.pooling1(x)\n",
    "        x = F.relu(self.cn2(x))\n",
    "        x = self.batchNorm2(x)\n",
    "        x = self.pooling2(x)\n",
    "        x = F.relu(self.cn3(x))\n",
    "        x = self.batchNorm3(x)\n",
    "        x = self.pooling3(x)\n",
    "        x = F.relu(self.cn4(x))\n",
    "        x = self.batchNorm4(x)\n",
    "        x = self.pooling4(x)\n",
    "        \n",
    "        x = x.squeeze(4)\n",
    "        x = x.squeeze(3)\n",
    "        x = x.permute(2,0,1)\n",
    "        x, _ = self.biGRU1(x)\n",
    "        x = self.ln(x)\n",
    "        x = torch.tanh(x)\n",
    "        x, _ = self.biGRU2(x)\n",
    "        x = torch.tanh(x)\n",
    "        \n",
    "        x = x.permute(1,2,0)\n",
    "        obs = obs.permute(0,2,1)\n",
    "        x = torch.cat((x, obs),1)\n",
    "        \n",
    "        \n",
    "        x = F.relu(self.fusion_module1(x))\n",
    "        x = self.fusion_module2(x)\n",
    "        \n",
    "        x = x.permute(0,2,1)\n",
    "        x = F.relu(self.traj_predictor1(x))\n",
    "        x = self.dropout(x)\n",
    "        x = F.relu(self.traj_predictor2(x))\n",
    "        x = self.dropout1(x)\n",
    "        x = torch.sigmoid(self.traj_predictor3(x))\n",
    "        return x[:,:,0], x[:,:,1]"
   ]
  },
  {
   "cell_type": "code",
   "execution_count": 9,
   "metadata": {},
   "outputs": [
    {
     "name": "stderr",
     "output_type": "stream",
     "text": [
      "\r",
      "Training:   0%|          | 0/288 [00:00<?, ?it/s]"
     ]
    },
    {
     "name": "stdout",
     "output_type": "stream",
     "text": [
      "epoch 0\n"
     ]
    },
    {
     "name": "stderr",
     "output_type": "stream",
     "text": [
      "Epoch: 0 loss: 0.0560: 100%|██████████| 288/288 [05:32<00:00,  1.15s/it]\n",
      "Validation: 100%|██████████| 32/32 [00:09<00:00,  3.38it/s]\n",
      "/home/frankbu/.local/lib/python3.6/site-packages/torch/serialization.py:402: UserWarning: Couldn't retrieve source code for container of type Net. It won't be checked for correctness upon loading.\n",
      "  \"type \" + obj.__name__ + \". It won't be checked \"\n",
      "/home/frankbu/.local/lib/python3.6/site-packages/torch/serialization.py:402: UserWarning: Couldn't retrieve source code for container of type Encoder. It won't be checked for correctness upon loading.\n",
      "  \"type \" + obj.__name__ + \". It won't be checked \"\n",
      "Training:   0%|          | 0/288 [00:00<?, ?it/s]"
     ]
    },
    {
     "name": "stdout",
     "output_type": "stream",
     "text": [
      "\n",
      "Epoch: 0 validation test results - Average val_loss: 8.4167\n",
      "epoch 1\n"
     ]
    },
    {
     "name": "stderr",
     "output_type": "stream",
     "text": [
      "Epoch: 1 loss: 0.1228: 100%|██████████| 288/288 [05:33<00:00,  1.16s/it]\n",
      "Validation: 100%|██████████| 32/32 [00:09<00:00,  3.38it/s]\n",
      "Training:   0%|          | 0/288 [00:00<?, ?it/s]"
     ]
    },
    {
     "name": "stdout",
     "output_type": "stream",
     "text": [
      "\n",
      "Epoch: 1 validation test results - Average val_loss: 6.6138\n",
      "epoch 2\n"
     ]
    },
    {
     "name": "stderr",
     "output_type": "stream",
     "text": [
      "Epoch: 2 loss: 0.0191: 100%|██████████| 288/288 [05:34<00:00,  1.16s/it]\n",
      "Validation: 100%|██████████| 32/32 [00:09<00:00,  3.38it/s]\n",
      "Training:   0%|          | 0/288 [00:00<?, ?it/s]"
     ]
    },
    {
     "name": "stdout",
     "output_type": "stream",
     "text": [
      "\n",
      "Epoch: 2 validation test results - Average val_loss: 5.3097\n",
      "epoch 3\n"
     ]
    },
    {
     "name": "stderr",
     "output_type": "stream",
     "text": [
      "Epoch: 3 loss: 0.0182: 100%|██████████| 288/288 [05:34<00:00,  1.16s/it]\n",
      "Validation: 100%|██████████| 32/32 [00:09<00:00,  3.38it/s]\n",
      "Training:   0%|          | 0/288 [00:00<?, ?it/s]"
     ]
    },
    {
     "name": "stdout",
     "output_type": "stream",
     "text": [
      "\n",
      "Epoch: 3 validation test results - Average val_loss: 3.4270\n",
      "epoch 4\n"
     ]
    },
    {
     "name": "stderr",
     "output_type": "stream",
     "text": [
      "Epoch: 4 loss: 0.0135: 100%|██████████| 288/288 [05:34<00:00,  1.16s/it]\n",
      "Validation: 100%|██████████| 32/32 [00:09<00:00,  3.38it/s]\n",
      "Training:   0%|          | 0/288 [00:00<?, ?it/s]"
     ]
    },
    {
     "name": "stdout",
     "output_type": "stream",
     "text": [
      "\n",
      "Epoch: 4 validation test results - Average val_loss: 2.2924\n",
      "epoch 5\n"
     ]
    },
    {
     "name": "stderr",
     "output_type": "stream",
     "text": [
      "Epoch: 5 loss: 0.0249: 100%|██████████| 288/288 [05:34<00:00,  1.16s/it]\n",
      "Validation: 100%|██████████| 32/32 [00:09<00:00,  3.37it/s]\n",
      "Training:   0%|          | 0/288 [00:00<?, ?it/s]"
     ]
    },
    {
     "name": "stdout",
     "output_type": "stream",
     "text": [
      "\n",
      "Epoch: 5 validation test results - Average val_loss: 1.6927\n",
      "epoch 6\n"
     ]
    },
    {
     "name": "stderr",
     "output_type": "stream",
     "text": [
      "Epoch: 6 loss: 0.0055: 100%|██████████| 288/288 [05:34<00:00,  1.16s/it]\n",
      "Validation: 100%|██████████| 32/32 [00:09<00:00,  3.38it/s]\n",
      "Training:   0%|          | 0/288 [00:00<?, ?it/s]"
     ]
    },
    {
     "name": "stdout",
     "output_type": "stream",
     "text": [
      "\n",
      "Epoch: 6 validation test results - Average val_loss: 1.5157\n",
      "epoch 7\n"
     ]
    },
    {
     "name": "stderr",
     "output_type": "stream",
     "text": [
      "Epoch: 7 loss: 0.0084: 100%|██████████| 288/288 [05:33<00:00,  1.16s/it]\n",
      "Validation: 100%|██████████| 32/32 [00:09<00:00,  3.37it/s]\n",
      "Training:   0%|          | 0/288 [00:00<?, ?it/s]"
     ]
    },
    {
     "name": "stdout",
     "output_type": "stream",
     "text": [
      "\n",
      "Epoch: 7 validation test results - Average val_loss: 1.3557\n",
      "epoch 8\n"
     ]
    },
    {
     "name": "stderr",
     "output_type": "stream",
     "text": [
      "Epoch: 8 loss: 0.0234: 100%|██████████| 288/288 [05:34<00:00,  1.16s/it]\n",
      "Validation: 100%|██████████| 32/32 [00:09<00:00,  3.37it/s]\n",
      "Training:   0%|          | 0/288 [00:00<?, ?it/s]"
     ]
    },
    {
     "name": "stdout",
     "output_type": "stream",
     "text": [
      "\n",
      "Epoch: 8 validation test results - Average val_loss: 1.4371\n",
      "epoch 9\n"
     ]
    },
    {
     "name": "stderr",
     "output_type": "stream",
     "text": [
      "Epoch: 9 loss: 0.0064: 100%|██████████| 288/288 [05:34<00:00,  1.16s/it]\n",
      "Validation: 100%|██████████| 32/32 [00:09<00:00,  3.38it/s]\n",
      "Training:   0%|          | 0/288 [00:00<?, ?it/s]"
     ]
    },
    {
     "name": "stdout",
     "output_type": "stream",
     "text": [
      "\n",
      "Epoch: 9 validation test results - Average val_loss: 1.3568\n",
      "epoch 10\n"
     ]
    },
    {
     "name": "stderr",
     "output_type": "stream",
     "text": [
      "Epoch: 10 loss: 0.0117: 100%|██████████| 288/288 [05:34<00:00,  1.16s/it]\n",
      "Validation: 100%|██████████| 32/32 [00:09<00:00,  3.38it/s]\n",
      "Training:   0%|          | 0/288 [00:00<?, ?it/s]"
     ]
    },
    {
     "name": "stdout",
     "output_type": "stream",
     "text": [
      "2e-05\n",
      "\n",
      "Epoch: 10 validation test results - Average val_loss: 1.4846\n",
      "epoch 11\n"
     ]
    },
    {
     "name": "stderr",
     "output_type": "stream",
     "text": [
      "Epoch: 11 loss: 0.0140: 100%|██████████| 288/288 [05:33<00:00,  1.16s/it]\n",
      "Validation: 100%|██████████| 32/32 [00:09<00:00,  3.37it/s]\n",
      "Training:   0%|          | 0/288 [00:00<?, ?it/s]"
     ]
    },
    {
     "name": "stdout",
     "output_type": "stream",
     "text": [
      "\n",
      "Epoch: 11 validation test results - Average val_loss: 1.3636\n",
      "epoch 12\n"
     ]
    },
    {
     "name": "stderr",
     "output_type": "stream",
     "text": [
      "Epoch: 12 loss: 0.0104: 100%|██████████| 288/288 [05:34<00:00,  1.16s/it]\n",
      "Validation: 100%|██████████| 32/32 [00:09<00:00,  3.38it/s]\n",
      "Training:   0%|          | 0/288 [00:00<?, ?it/s]"
     ]
    },
    {
     "name": "stdout",
     "output_type": "stream",
     "text": [
      "\n",
      "Epoch: 12 validation test results - Average val_loss: 1.2913\n",
      "epoch 13\n"
     ]
    },
    {
     "name": "stderr",
     "output_type": "stream",
     "text": [
      "Epoch: 13 loss: 0.0076: 100%|██████████| 288/288 [05:34<00:00,  1.16s/it]\n",
      "Validation: 100%|██████████| 32/32 [00:09<00:00,  3.38it/s]\n",
      "Training:   0%|          | 0/288 [00:00<?, ?it/s]"
     ]
    },
    {
     "name": "stdout",
     "output_type": "stream",
     "text": [
      "\n",
      "Epoch: 13 validation test results - Average val_loss: 1.3022\n",
      "epoch 14\n"
     ]
    },
    {
     "name": "stderr",
     "output_type": "stream",
     "text": [
      "Epoch: 14 loss: 0.0083: 100%|██████████| 288/288 [05:34<00:00,  1.16s/it]\n",
      "Validation: 100%|██████████| 32/32 [00:09<00:00,  3.38it/s]\n",
      "Training:   0%|          | 0/288 [00:00<?, ?it/s]"
     ]
    },
    {
     "name": "stdout",
     "output_type": "stream",
     "text": [
      "\n",
      "Epoch: 14 validation test results - Average val_loss: 1.3277\n",
      "epoch 15\n"
     ]
    },
    {
     "name": "stderr",
     "output_type": "stream",
     "text": [
      "Epoch: 15 loss: 0.0052: 100%|██████████| 288/288 [05:33<00:00,  1.16s/it]\n",
      "Validation: 100%|██████████| 32/32 [00:09<00:00,  3.38it/s]\n",
      "Training:   0%|          | 0/288 [00:00<?, ?it/s]"
     ]
    },
    {
     "name": "stdout",
     "output_type": "stream",
     "text": [
      "\n",
      "Epoch: 15 validation test results - Average val_loss: 1.2842\n",
      "epoch 16\n"
     ]
    },
    {
     "name": "stderr",
     "output_type": "stream",
     "text": [
      "Epoch: 16 loss: 0.0125: 100%|██████████| 288/288 [05:33<00:00,  1.16s/it]\n",
      "Validation: 100%|██████████| 32/32 [00:09<00:00,  3.38it/s]\n",
      "Training:   0%|          | 0/288 [00:00<?, ?it/s]"
     ]
    },
    {
     "name": "stdout",
     "output_type": "stream",
     "text": [
      "\n",
      "Epoch: 16 validation test results - Average val_loss: 1.3667\n",
      "epoch 17\n"
     ]
    },
    {
     "name": "stderr",
     "output_type": "stream",
     "text": [
      "Epoch: 17 loss: 0.0059: 100%|██████████| 288/288 [05:34<00:00,  1.16s/it]\n",
      "Validation: 100%|██████████| 32/32 [00:09<00:00,  3.38it/s]\n",
      "Training:   0%|          | 0/288 [00:00<?, ?it/s]"
     ]
    },
    {
     "name": "stdout",
     "output_type": "stream",
     "text": [
      "\n",
      "Epoch: 17 validation test results - Average val_loss: 1.2818\n",
      "epoch 18\n"
     ]
    },
    {
     "name": "stderr",
     "output_type": "stream",
     "text": [
      "Epoch: 18 loss: 0.0223: 100%|██████████| 288/288 [05:34<00:00,  1.16s/it]\n",
      "Validation: 100%|██████████| 32/32 [00:09<00:00,  3.38it/s]\n",
      "Training:   0%|          | 0/288 [00:00<?, ?it/s]"
     ]
    },
    {
     "name": "stdout",
     "output_type": "stream",
     "text": [
      "\n",
      "Epoch: 18 validation test results - Average val_loss: 1.3497\n",
      "epoch 19\n"
     ]
    },
    {
     "name": "stderr",
     "output_type": "stream",
     "text": [
      "Epoch: 19 loss: 0.0069: 100%|██████████| 288/288 [05:34<00:00,  1.16s/it]\n",
      "Validation: 100%|██████████| 32/32 [00:09<00:00,  3.37it/s]\n",
      "Training:   0%|          | 0/288 [00:00<?, ?it/s]"
     ]
    },
    {
     "name": "stdout",
     "output_type": "stream",
     "text": [
      "\n",
      "Epoch: 19 validation test results - Average val_loss: 1.3762\n",
      "epoch 20\n"
     ]
    },
    {
     "name": "stderr",
     "output_type": "stream",
     "text": [
      "Epoch: 20 loss: 0.0083: 100%|██████████| 288/288 [05:34<00:00,  1.16s/it]\n",
      "Validation: 100%|██████████| 32/32 [00:09<00:00,  3.38it/s]\n",
      "Training:   0%|          | 0/288 [00:00<?, ?it/s]"
     ]
    },
    {
     "name": "stdout",
     "output_type": "stream",
     "text": [
      "4.000000000000001e-06\n",
      "\n",
      "Epoch: 20 validation test results - Average val_loss: 1.3455\n",
      "epoch 21\n"
     ]
    },
    {
     "name": "stderr",
     "output_type": "stream",
     "text": [
      "Epoch: 21 loss: 0.0059: 100%|██████████| 288/288 [05:34<00:00,  1.16s/it]\n",
      "Validation: 100%|██████████| 32/32 [00:09<00:00,  3.38it/s]\n",
      "Training:   0%|          | 0/288 [00:00<?, ?it/s]"
     ]
    },
    {
     "name": "stdout",
     "output_type": "stream",
     "text": [
      "\n",
      "Epoch: 21 validation test results - Average val_loss: 1.3452\n",
      "epoch 22\n"
     ]
    },
    {
     "name": "stderr",
     "output_type": "stream",
     "text": [
      "Epoch: 22 loss: 0.0041: 100%|██████████| 288/288 [05:34<00:00,  1.16s/it]\n",
      "Validation: 100%|██████████| 32/32 [00:09<00:00,  3.37it/s]\n",
      "Training:   0%|          | 0/288 [00:00<?, ?it/s]"
     ]
    },
    {
     "name": "stdout",
     "output_type": "stream",
     "text": [
      "\n",
      "Epoch: 22 validation test results - Average val_loss: 1.3477\n",
      "epoch 23\n"
     ]
    },
    {
     "name": "stderr",
     "output_type": "stream",
     "text": [
      "Epoch: 23 loss: 0.0031: 100%|██████████| 288/288 [05:34<00:00,  1.16s/it]\n",
      "Validation: 100%|██████████| 32/32 [00:09<00:00,  3.38it/s]\n",
      "Training:   0%|          | 0/288 [00:00<?, ?it/s]"
     ]
    },
    {
     "name": "stdout",
     "output_type": "stream",
     "text": [
      "\n",
      "Epoch: 23 validation test results - Average val_loss: 1.3508\n",
      "epoch 24\n"
     ]
    },
    {
     "name": "stderr",
     "output_type": "stream",
     "text": [
      "Epoch: 24 loss: 0.0048: 100%|██████████| 288/288 [05:33<00:00,  1.16s/it]\n",
      "Validation: 100%|██████████| 32/32 [00:09<00:00,  3.38it/s]\n",
      "Training:   0%|          | 0/288 [00:00<?, ?it/s]"
     ]
    },
    {
     "name": "stdout",
     "output_type": "stream",
     "text": [
      "\n",
      "Epoch: 24 validation test results - Average val_loss: 1.3520\n",
      "epoch 25\n"
     ]
    },
    {
     "name": "stderr",
     "output_type": "stream",
     "text": [
      "Epoch: 25 loss: 0.0068: 100%|██████████| 288/288 [05:34<00:00,  1.16s/it]\n",
      "Validation: 100%|██████████| 32/32 [00:09<00:00,  3.37it/s]\n",
      "Training:   0%|          | 0/288 [00:00<?, ?it/s]"
     ]
    },
    {
     "name": "stdout",
     "output_type": "stream",
     "text": [
      "\n",
      "Epoch: 25 validation test results - Average val_loss: 1.3489\n",
      "epoch 26\n"
     ]
    },
    {
     "name": "stderr",
     "output_type": "stream",
     "text": [
      "Epoch: 26 loss: 0.0066: 100%|██████████| 288/288 [05:33<00:00,  1.16s/it]\n",
      "Validation: 100%|██████████| 32/32 [00:09<00:00,  3.37it/s]\n",
      "Training:   0%|          | 0/288 [00:00<?, ?it/s]"
     ]
    },
    {
     "name": "stdout",
     "output_type": "stream",
     "text": [
      "\n",
      "Epoch: 26 validation test results - Average val_loss: 1.3470\n",
      "epoch 27\n"
     ]
    },
    {
     "name": "stderr",
     "output_type": "stream",
     "text": [
      "Epoch: 27 loss: 0.0069: 100%|██████████| 288/288 [05:34<00:00,  1.16s/it]\n",
      "Validation: 100%|██████████| 32/32 [00:09<00:00,  3.37it/s]\n",
      "Training:   0%|          | 0/288 [00:00<?, ?it/s]"
     ]
    },
    {
     "name": "stdout",
     "output_type": "stream",
     "text": [
      "\n",
      "Epoch: 27 validation test results - Average val_loss: 1.3423\n",
      "epoch 28\n"
     ]
    },
    {
     "name": "stderr",
     "output_type": "stream",
     "text": [
      "Epoch: 28 loss: 0.0033: 100%|██████████| 288/288 [05:34<00:00,  1.16s/it]\n",
      "Validation: 100%|██████████| 32/32 [00:09<00:00,  3.37it/s]\n",
      "Training:   0%|          | 0/288 [00:00<?, ?it/s]"
     ]
    },
    {
     "name": "stdout",
     "output_type": "stream",
     "text": [
      "\n",
      "Epoch: 28 validation test results - Average val_loss: 1.3759\n",
      "epoch 29\n"
     ]
    },
    {
     "name": "stderr",
     "output_type": "stream",
     "text": [
      "Epoch: 29 loss: 0.0045: 100%|██████████| 288/288 [05:34<00:00,  1.16s/it]\n",
      "Validation: 100%|██████████| 32/32 [00:09<00:00,  3.38it/s]"
     ]
    },
    {
     "name": "stdout",
     "output_type": "stream",
     "text": [
      "\n",
      "Epoch: 29 validation test results - Average val_loss: 1.3767\n"
     ]
    },
    {
     "name": "stderr",
     "output_type": "stream",
     "text": [
      "\n"
     ]
    }
   ],
   "source": [
    "model = Net()\n",
    "optimizer = optim.Adam(model.parameters(), lr=args.lr, weight_decay=args.weight_decay)\n",
    "if args.cuda:\n",
    "    model = model.cuda()\n",
    "train_losses, train_accs = [], []\n",
    "val_losses, val_accs = [], []\n",
    "min_test_loss = 10000.\n",
    "for epoch in range(args.epochs):\n",
    "                \n",
    "    # Training\n",
    "    print(\"epoch \" + str(epoch))\n",
    "    model.train()\n",
    "    \n",
    "    total_loss, total_acc = 0., 0.\n",
    "    progress_bar = tqdm.tqdm(training_generator, desc='Training')\n",
    "    \n",
    "    for batch_idx, (data, target) in enumerate(progress_bar):\n",
    "        total_loss, total_acc = 0., 0.\n",
    "        obs_traj = data[1].float()\n",
    "        data = data[0].float()\n",
    "        target = target.float()\n",
    "        \n",
    "        if args.cuda:\n",
    "            data,obs_traj,target = data.cuda(), obs_traj.cuda(), target.cuda()\n",
    "        data,obs_traj, target = Variable(data), Variable(obs_traj), Variable(target)\n",
    "\n",
    "        \n",
    "        optimizer.zero_grad()\n",
    "        output = model(data, obs_traj)\n",
    "        loss_x = F.mse_loss(output[0], target[:,:,0], reduction=\"sum\") \n",
    "        loss_y = F.mse_loss(output[1], target[:,:,1], reduction=\"sum\") \n",
    "        loss = loss_x + loss_y\n",
    "        loss.backward()\n",
    "        optimizer.step()\n",
    "        \n",
    "        train_losses.append(loss.data.item())\n",
    "        total_loss += loss.data\n",
    "        progress_bar.clear()\n",
    "        progress_bar.set_description('Epoch: {} loss: {:.4f}'.format(epoch, total_loss / (batch_idx + 1)))\n",
    "        progress_bar.refresh()\n",
    "    \n",
    "    \n",
    "    # Validation\n",
    "    model.eval()\n",
    "    test_loss, acc = 0., 0.\n",
    "    progress_bar = tqdm.tqdm(validation_generator, desc='Validation')\n",
    "    with torch.no_grad():\n",
    "        for data, target in progress_bar:\n",
    "            obs_traj = data[1].float()\n",
    "            data = data[0].float()\n",
    "            target = target.float()\n",
    "            if args.cuda:\n",
    "                data,obs_traj,target = data.cuda(), obs_traj.cuda(), target.cuda()\n",
    "            data, obs_traj, target = Variable(data),Variable(obs_traj), Variable(target)\n",
    "            data = data.float()\n",
    "            output = model(data, obs_traj)\n",
    "            loss_x = F.mse_loss(output[0], target[:,:,0], reduction=\"sum\")  \n",
    "            loss_y = F.mse_loss(output[1], target[:,:,1], reduction=\"sum\")   # sum up batch loss\n",
    "            test_loss += loss_x + loss_y\n",
    "    test_loss /= len(partition['val'])\n",
    "\n",
    "    val_losses.append(test_loss.item())\n",
    "    if epoch % 10 == 0 and epoch != 0:\n",
    "        args.lr /= 5\n",
    "        for param_group in optimizer.param_groups:\n",
    "            param_group['lr'] = args.lr\n",
    "            print(param_group['lr'])\n",
    "    progress_bar.clear()\n",
    "    progress_bar.write(\n",
    "        '\\nEpoch: {} validation test results - Average val_loss: {:.4f}'.format(\n",
    "            epoch, test_loss))\n",
    "    if (test_loss < min_test_loss):\n",
    "        torch.save(model, \"combined_checkpoint_new.pkl\")\n",
    "        min_test_loss = test_loss"
   ]
  },
  {
   "cell_type": "code",
   "execution_count": null,
   "metadata": {},
   "outputs": [],
   "source": []
  },
  {
   "cell_type": "code",
   "execution_count": null,
   "metadata": {},
   "outputs": [],
   "source": []
  }
 ],
 "metadata": {
  "kernelspec": {
   "display_name": "Python 3",
   "language": "python",
   "name": "python3"
  },
  "language_info": {
   "codemirror_mode": {
    "name": "ipython",
    "version": 3
   },
   "file_extension": ".py",
   "mimetype": "text/x-python",
   "name": "python",
   "nbconvert_exporter": "python",
   "pygments_lexer": "ipython3",
   "version": "3.6.9"
  }
 },
 "nbformat": 4,
 "nbformat_minor": 4
}
